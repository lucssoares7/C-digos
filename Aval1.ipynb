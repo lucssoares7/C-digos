{
  "nbformat": 4,
  "nbformat_minor": 0,
  "metadata": {
    "colab": {
      "provenance": [],
      "authorship_tag": "ABX9TyNTVkypZESckj15goTX5t51",
      "include_colab_link": true
    },
    "kernelspec": {
      "name": "python3",
      "display_name": "Python 3"
    },
    "language_info": {
      "name": "python"
    }
  },
  "cells": [
    {
      "cell_type": "markdown",
      "metadata": {
        "id": "view-in-github",
        "colab_type": "text"
      },
      "source": [
        "<a href=\"https://colab.research.google.com/github/lucssoares7/C-digos/blob/main/Aval1.ipynb\" target=\"_parent\"><img src=\"https://colab.research.google.com/assets/colab-badge.svg\" alt=\"Open In Colab\"/></a>"
      ]
    },
    {
      "cell_type": "markdown",
      "source": [
        "Gerador de números pseudoaleatórios, o conjunto de dados foi salvo em 10 arquivos separados."
      ],
      "metadata": {
        "id": "C-s-U2wrmpdb"
      }
    },
    {
      "cell_type": "code",
      "source": [
        "#gerador de números aleatórios\n",
        "import random\n",
        "import numpy as np\n",
        "\n",
        "def gen(array, size):\n",
        "    num = random.sample(range(-size,size),size)\n",
        "    for i in range(size):\n",
        "        array[i] = num[i]\n",
        "\n",
        "    return array\n",
        "tax = 1\n",
        "\n",
        "for tax in range(1,11,1):\n",
        "    #tax = tax + 1\n",
        "    size = 100000    \n",
        "    strArq = \"arq\"+str(tax)+\".txt\"\n",
        "    #arq1 = open(strArq,\"w+\")\n",
        "    size = size*(tax)\n",
        "    vetor = [0]*size\n",
        "    Array = np.array(gen(vetor,size))\n",
        "    np.savetxt(strArq, Array)\n",
        "    #arq1.close()\n",
        "\n",
        "\n",
        "#arq1.write()\n",
        "#arq1.close()"
      ],
      "metadata": {
        "id": "gcSlwb3pjJA7"
      },
      "execution_count": 42,
      "outputs": []
    },
    {
      "cell_type": "markdown",
      "source": [
        "# Nova seção"
      ],
      "metadata": {
        "id": "yhUiv0DD49nP"
      }
    },
    {
      "cell_type": "markdown",
      "source": [
        "# Nova seção"
      ],
      "metadata": {
        "id": "kxYqPaZf4-HO"
      }
    },
    {
      "cell_type": "markdown",
      "source": [
        "Ordenar os conjuntos de dados e gerar novos arquivos\n"
      ],
      "metadata": {
        "id": "lxKDftHUyPli"
      }
    },
    {
      "cell_type": "code",
      "execution_count": 50,
      "metadata": {
        "id": "Qc2Tg-LFhVIG"
      },
      "outputs": [],
      "source": [
        "from typing import List\n",
        "import numpy\n",
        "\n",
        "#contantes\n",
        "bitswords = 32\n",
        "bitsbyte = 8\n",
        "bytesword = 4\n",
        "R = 1 << bitsbyte\n",
        "def digit(N,D):\n",
        "    return ((N >> (D * bitsbyte)) & (R - 1))\n",
        "def radix_sort(v,left,right):\n",
        "    count = [0]*R+1\n",
        "    aux = [0]*R+1\n",
        "    i = 0\n",
        "    for w in range (bytesword):\n",
        "        for i in range(R+1):\n",
        "            count[i] = 0\n",
        "        for i in range(left,right):\n",
        "            count[digit(v[i],w)+1] = count[digit(v[i],w)+1]+1\n",
        "        for i in range(1,R+1):\n",
        "            count[i] += count[i-1]\n",
        "        for i in range (left,right+1):\n",
        "            aux[count[digit(v[i],w)]] = v[i]\n",
        "            count[digit(v[i],w)] = count[digit(v[i],w)] + 1\n",
        "        for i in range(left,right+1):\n",
        "            v[i]=aux[i-left]   \n",
        "    return v\n",
        "for i in range(1,11,1):\n",
        "      strArq = \"arq\"+str(i)+\".txt\"\n",
        "      #print(strArq)\n",
        "      array = np.loadtxt(strArq)\n",
        "      array_sort = np.sort(array)\n",
        "      np.savetxt(\"arq\"+str(i)+\"_sort.txt\", Array)\n"
      ]
    },
    {
      "cell_type": "markdown",
      "source": [
        "Algoritmos de busca\n",
        "a) Busca sequencial padrão;\n",
        "b) Busca por saltos (jump search);\n",
        "c) Busca binária"
      ],
      "metadata": {
        "id": "qFn23lA8yWJj"
      }
    },
    {
      "cell_type": "code",
      "source": [],
      "metadata": {
        "id": "fRnuVBKKybC_"
      },
      "execution_count": null,
      "outputs": []
    }
  ]
}