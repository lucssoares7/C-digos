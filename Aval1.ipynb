{
  "nbformat": 4,
  "nbformat_minor": 0,
  "metadata": {
    "colab": {
      "provenance": [],
      "toc_visible": true,
      "authorship_tag": "ABX9TyOT0Vz/W3PuIhZodD9f46mz",
      "include_colab_link": true
    },
    "kernelspec": {
      "name": "python3",
      "display_name": "Python 3"
    },
    "language_info": {
      "name": "python"
    }
  },
  "cells": [
    {
      "cell_type": "markdown",
      "metadata": {
        "id": "view-in-github",
        "colab_type": "text"
      },
      "source": [
        "<a href=\"https://colab.research.google.com/github/lucssoares7/C-digos/blob/main/Aval1.ipynb\" target=\"_parent\"><img src=\"https://colab.research.google.com/assets/colab-badge.svg\" alt=\"Open In Colab\"/></a>"
      ]
    },
    {
      "cell_type": "markdown",
      "source": [
        "Gerador de números pseudoaleatórios, o conjunto de dados foi salvo em 10 arquivos separados."
      ],
      "metadata": {
        "id": "C-s-U2wrmpdb"
      }
    },
    {
      "cell_type": "code",
      "source": [
        "#gerador de números aleatórios\n",
        "import random\n",
        "import numpy as np\n",
        "\n",
        "def gen(array, max, size):\n",
        "    num = random.sample(range(-max,max),size)\n",
        "    for i in range(size):\n",
        "        array[i] = num[i]\n",
        "\n",
        "    return array\n",
        "    \n",
        "tax = 1\n",
        "\n",
        "#def gerador:\n",
        "\n",
        "for tax in range(1,11,1):\n",
        "    #tax = tax + 1\n",
        "    size = 100000    \n",
        "    strArq = \"arq\"+str(tax)+\".txt\"\n",
        "    #arq1 = open(strArq,\"w+\")\n",
        "    size = size*(tax)\n",
        "    vetor = [0]*size\n",
        "    Array = np.array(gen(vetor,size,size))\n",
        "    np.savetxt(strArq, Array)\n",
        "    #arq1.close()"
      ],
      "metadata": {
        "id": "gcSlwb3pjJA7"
      },
      "execution_count": 66,
      "outputs": []
    },
    {
      "cell_type": "markdown",
      "source": [
        "Ordenar os conjuntos de dados e gerar novos arquivos com os conjuntos ordenados\n"
      ],
      "metadata": {
        "id": "lxKDftHUyPli"
      }
    },
    {
      "cell_type": "code",
      "execution_count": 67,
      "metadata": {
        "id": "Qc2Tg-LFhVIG"
      },
      "outputs": [],
      "source": [
        "from typing import List\n",
        "import numpy\n",
        "\n",
        "for i in range(1,11,1):\n",
        "      strArq = \"arq\"+str(i)+\".txt\"\n",
        "      #print(strArq)\n",
        "      array = np.loadtxt(strArq)\n",
        "      #print(array)\n",
        "      #print(len(array))\n",
        "      array_sort = np.sort(array)\n",
        "      np.savetxt(\"arq\"+str(i)+\"_sort.txt\", array_sort)\n"
      ]
    },
    {
      "cell_type": "markdown",
      "source": [
        "gerador de chaves de busca aleatórias"
      ],
      "metadata": {
        "id": "gFQAHDlNa9Qa"
      }
    },
    {
      "cell_type": "code",
      "source": [
        "def genChavealet(max, size):\n",
        "    vetor = [0]*size\n",
        "    return np.array(gen(vetor,max,size))"
      ],
      "metadata": {
        "id": "692WSttka1WA"
      },
      "execution_count": 68,
      "outputs": []
    },
    {
      "cell_type": "markdown",
      "source": [
        "Algoritmos de busca\n",
        "a) Busca sequencial padrão;\n",
        "b) Busca por saltos (jump search);\n",
        "c) Busca binária"
      ],
      "metadata": {
        "id": "qFn23lA8yWJj"
      }
    },
    {
      "cell_type": "markdown",
      "source": [
        "Busca sequencial"
      ],
      "metadata": {
        "id": "S769n9l1ETkX"
      }
    },
    {
      "cell_type": "code",
      "source": [
        "import timeit\n",
        "\n",
        "num_comp = 0\n",
        "\n",
        "def buscaSeq(vet, chave):\n",
        "    pos = 0\n",
        "    for pos in range(0, len(vet),1):\n",
        "      #time.sleep(1)\n",
        "      global num_comp\n",
        "      num_comp = num_comp + 1\n",
        "      if(vet[pos]==chave):\n",
        "        return pos\n",
        "    \n",
        "    return -1 \n",
        "\n",
        "      "
      ],
      "metadata": {
        "id": "3c4n0bfyESow"
      },
      "execution_count": 69,
      "outputs": []
    },
    {
      "cell_type": "code",
      "source": [
        "import math\n",
        "#carregar vetores\n",
        "#array1 = np.loadtxt(\"arq1.txt\")\n",
        "#print(array1)\n",
        "#print(len(array1))\n",
        "tempo_piorcaso = []\n",
        "num_comp_piorcaso = []\n",
        "\n",
        "for i in range(1,11,1):\n",
        "      strArq = \"arq\"+str(i)+\".txt\"\n",
        "      #print(strArq)\n",
        "      array = np.loadtxt(strArq)\n",
        "      #print(\"Array = \",array)\n",
        "      #print(\"tamanho\",len(array))\n",
        "      chave = array[-1]\n",
        "      #print(\"chave = \", chave)\n",
        "      #taux = \n",
        "      #print()\n",
        "      tempo_piorcaso.append(round(timeit.timeit(lambda: buscaSeq(array,chave), number=1),4))\n",
        "      taux = 0\n",
        "      #print(\"Número de Comparações =\",num_comp)\n",
        "      num_comp_piorcaso.append(num_comp)\n",
        "      num_comp = 0\n",
        "\n",
        "print(\"tempo pior caso =\\n\", tempo_piorcaso)\n",
        "print(\"Número de Comparações no pior caso =\\n\",num_comp_piorcaso)"
      ],
      "metadata": {
        "colab": {
          "base_uri": "https://localhost:8080/"
        },
        "id": "NuI3aHdaFhAp",
        "outputId": "cb591318-8a0d-4cac-d50c-4bdda7a5feab"
      },
      "execution_count": 40,
      "outputs": [
        {
          "output_type": "stream",
          "name": "stdout",
          "text": [
            "tempo pior caso =\n",
            " [0.0187, 0.03808, 0.05683, 0.07657, 0.09116, 0.11316, 0.13095, 0.32969, 0.16858, 0.18576]\n",
            "Número de Comparações no pior caso =\n",
            " [100000, 200000, 300000, 400000, 500000, 600000, 700000, 800000, 900000, 1000000]\n"
          ]
        }
      ]
    },
    {
      "cell_type": "code",
      "source": [
        "import math\n",
        "import statistics\n",
        "tempo_casoaleat = []\n",
        "num_comp_casos_aleat = []\n",
        "desvios_tempo = []\n",
        "desvios_comp = []\n",
        "for i in range(1,11,1):\n",
        "      strArq = \"arq\"+str(i)+\".txt\"\n",
        "      #print(strArq)\n",
        "      array = np.loadtxt(strArq)\n",
        "      #print(\"Array = \",array)\n",
        "      #print(\"tamanho\",len(array))\n",
        "      t = 0.0\n",
        "      chave_aleat = genChavealet(len(array),100)\n",
        "      #print(\"chaves aleeatórias = \",chave_aleat)\n",
        "      tempo_total = 0.0\n",
        "      Taux = []\n",
        "      nc = []\n",
        "      \n",
        "      total_num_comp = 0.0\n",
        "      for j in range(100):\n",
        "          t = timeit.timeit(lambda: buscaSeq(array,chave_aleat[j]), number=1)\n",
        "          tempo_total +=t\n",
        "          Taux.append(t)\n",
        "          t = 0\n",
        "          total_num_comp += num_comp\n",
        "          nc.append(num_comp)\n",
        "          num_comp = 0\n",
        "\n",
        "      desvios_tempo.append(statistics.pstdev(Taux))\n",
        "      desvios_comp.append(int(statistics.pstdev(nc)))\n",
        "      tempo_casoaleat.append((tempo_total/100))\n",
        "      num_comp_casos_aleat.append(int(total_num_comp/100))\n",
        "      total_num_comp = 0\n",
        "      \n",
        "      #print(\"tempo=\",t)\n",
        "\n",
        "print(\"tempos medios em 100 casos aleatórios=\\n \",tempo_casoaleat)\n",
        "print(\"número médio de comparações em casos aleatórios=\\n \",num_comp_casos_aleat)\n",
        "print(\"Desvio padrão Tempo\\n\",desvios_tempo)\n",
        "print(\"Desvio padrão Comparações\\n\",desvios_comp)"
      ],
      "metadata": {
        "colab": {
          "base_uri": "https://localhost:8080/"
        },
        "id": "Rh71iBAlB2KM",
        "outputId": "4ff1e5f4-eb1c-425f-eb01-8a2ffa283305"
      },
      "execution_count": 78,
      "outputs": [
        {
          "output_type": "stream",
          "name": "stdout",
          "text": [
            "tempos medios em 100 casos aleatórios=\n",
            "  [0.021374131120028325, 0.05044216436001079, 0.058452392729941495, 0.09764907986003891, 0.11567506015993785, 0.13711031213999378, 0.16523485742995037, 0.20813613708007325, 0.22550669517013375, 0.23789052923995768]\n",
            "número médio de comparações em casos aleatórios=\n",
            "  [75891.78, 139539.85, 213658.75, 299229.7, 364251.73, 443147.09, 545027.53, 650851.03, 708437.42, 748124.71]\n",
            "Desvio padrão Tempo\n",
            " [0.008732548942988338, 0.03157176365020233, 0.02806985672541658, 0.0606173736137804, 0.067885124657845, 0.07056879578185635, 0.08743948877015577, 0.10542322201674882, 0.11934508609890615, 0.13952046734196646]\n",
            "Desvio padrão Comparações\n",
            " [30406, 67149, 101997, 129882, 165561, 189866, 226830, 242366, 277496, 341907]\n"
          ]
        }
      ]
    },
    {
      "cell_type": "markdown",
      "source": [
        "Busca Jump"
      ],
      "metadata": {
        "id": "IQOrYPiSEkhQ"
      }
    },
    {
      "cell_type": "code",
      "source": [
        "import math\n",
        "import timeit\n",
        "import statistics\n",
        "num_comp = 0\n",
        "def buscaJump(vet,chave):\n",
        "    n = len(vet)\n",
        "    size = int(math.sqrt(n))\n",
        "    left, right = 0, 0\n",
        "    \n",
        "    while right < n and vet[right] < chave:\n",
        "        left = right\n",
        "        right += size\n",
        "  \n",
        "    for i in range(left, min(right, n)):\n",
        "        global num_comp\n",
        "        num_comp = num_comp+1\n",
        "        if vet[i] == chave:\n",
        "            return i\n",
        "    return -1\n",
        "\n"
      ],
      "metadata": {
        "id": "Hggj_2EgEsuR"
      },
      "execution_count": 42,
      "outputs": []
    },
    {
      "cell_type": "code",
      "source": [
        "import statistics\n",
        "#carregar vetores\n",
        "tempo_piorcaso = []\n",
        "num_comp_piorcaso = []\n",
        "\n",
        "for i in range(1,11,1):\n",
        "      strArq = \"arq\"+str(i)+\"_sort.txt\"\n",
        "      #print(strArq)\n",
        "      array = np.loadtxt(strArq)\n",
        "      #print(\"Array = \",array)\n",
        "      #print(\"tamanho\",len(array))\n",
        "      chave = len(array)+1\n",
        "      #pior caso, chave não está no array\n",
        "      #print(\"chave = \", chave)\n",
        "      tempo_piorcaso.append(round(timeit.timeit(lambda: buscaJump(array,chave), number=1),4))\n",
        "      t = 0.0\n",
        "      #print(\"Número de Comparações =\",num_comp)\n",
        "      num_comp_piorcaso.append(num_comp)\n",
        "      num_comp = 0\n",
        "      \n",
        "print(\"tempo pior caso =\\n\", tempo_piorcaso)\n",
        "print(\"Número de Comparações no pior caso =\",num_comp_piorcaso)"
      ],
      "metadata": {
        "id": "wrsZKSCbFXbj"
      },
      "execution_count": null,
      "outputs": []
    },
    {
      "cell_type": "code",
      "source": [
        "tempo_casoaleat = []\n",
        "num_comp_casos_aleat = []\n",
        "desvios_tempo = []\n",
        "desvios_comp = []\n",
        "import statistics\n",
        "for i in range(1,11,1):\n",
        "      strArq = \"arq\"+str(i)+\"_sort.txt\"\n",
        "      #print(strArq)\n",
        "      array = np.loadtxt(strArq)\n",
        "      #print(\"Array = \",array)\n",
        "      #print(\"tamanho\",len(array))\n",
        "      Taux = []\n",
        "      nc = []\n",
        "      num_comp = 0\n",
        "      chave_aleat = genChavealet(len(array),100)\n",
        "      total_num_comp = 0\n",
        "      for j in range(100):\n",
        "          t = timeit.timeit(lambda: buscaJump(array,chave_aleat[j]), number=1)\n",
        "          tempo_total +=t\n",
        "          Taux.append(t)\n",
        "          t = 0\n",
        "          total_num_comp += num_comp\n",
        "          nc.append(num_comp)\n",
        "          num_comp = 0\n",
        "      tempo_casoaleat.append(tempo_total/100)\n",
        "      num_comp_casos_aleat.append(total_num_comp/100)\n",
        "      desvios_tempo.append(int(statistics.pstdev(Taux)))\n",
        "      desvios_comp.append(int(statistics.pstdev(nc)))\n",
        "      total_num_comp = 0\n",
        "      tempo_total = 0.0\n",
        "      #print(\"tempo=\",t)\n",
        "\n",
        "print(\"tempos medios em 100 casos aleatórios=\\n \",tempo_casoaleat)\n",
        "print(\"número médio de comparações em casos aleatórios=\\n \",num_comp_casos_aleat)\n",
        "print(\"Desvio padrão Tempo\\n\",desvios_tempo)\n",
        "print(\"Desvio padrão Comparações\\n\",desvios_comp)"
      ],
      "metadata": {
        "colab": {
          "base_uri": "https://localhost:8080/"
        },
        "id": "waTu096QD8Ap",
        "outputId": "b249ad42-08ef-41c3-f8df-a7cacbb02e73"
      },
      "execution_count": 80,
      "outputs": [
        {
          "output_type": "stream",
          "name": "stdout",
          "text": [
            "tempos medios em 100 casos aleatórios=\n",
            "  [9.557836998283164e-05, 0.0001370712200878188, 0.00017985426995437593, 0.00046494441998220284, 0.0005141720100073143, 0.0002310531199145771, 0.0002593676499418507, 0.00028931409000506394, 0.0002824247897842724, 0.00033005285993567665]\n",
            "número médio de comparações em casos aleatórios=\n",
            "  [227.61, 323.73, 395.07, 466.26, 499.43, 557.65, 631.37, 680.89, 674.84, 772.63]\n",
            "Desvio padrão Tempo\n",
            " [0, 0, 0, 0, 0, 0, 0, 0, 0, 0]\n",
            "Desvio padrão Comparações\n",
            " [108, 144, 166, 209, 240, 269, 274, 272, 334, 299]\n"
          ]
        }
      ]
    },
    {
      "cell_type": "markdown",
      "source": [
        "Busca binária"
      ],
      "metadata": {
        "id": "znoHgclqE1Ud"
      }
    },
    {
      "cell_type": "code",
      "source": [
        "import math\n",
        "import timeit\n",
        "\n",
        "num_comp = 0\n",
        "def buscaBin(vet,chave):\n",
        "  size = len(vet)\n",
        "  posIni=0\n",
        "  posFim=size-1\n",
        "  posMeio = 0\n",
        "  while(posIni <=posFim):\n",
        "    posMeio = int((posIni+posFim)/2)\n",
        "    global num_comp\n",
        "    num_comp = num_comp+1\n",
        "    if(vet[posMeio]==chave):\n",
        "      return posMeio\n",
        "    elif(vet[posMeio] > chave):\n",
        "      posFim = posMeio -1\n",
        "    else:\n",
        "      posIni = posMeio+1\n",
        "  return -1\n",
        "\n"
      ],
      "metadata": {
        "id": "fRnuVBKKybC_"
      },
      "execution_count": null,
      "outputs": []
    },
    {
      "cell_type": "code",
      "source": [
        "#carregar valores\n",
        "tempo_piorcaso = []\n",
        "num_comp_piorcaso = []\n",
        "tempo_casoaleat = []\n",
        "num_comp_casos_aleat = []\n",
        "for i in range(1,11,1):\n",
        "      strArq = \"arq\"+str(i)+\"_sort.txt\"\n",
        "      #print(strArq)\n",
        "      array = np.loadtxt(strArq)\n",
        "      size = len(array)\n",
        "      #print(\"Array = \",array)\n",
        "      #print(\"tamanho\",size)\n",
        "      chave = size+1\n",
        "      #busca no pior caso, chave não está no array\n",
        "      #print(\"chave = \", chave)\n",
        "      tempo_piorcaso.append(round(timeit.timeit(lambda: buscaBin(array,chave), number=1),4))\n",
        "      #print(\"Número de Comparações no pior caso =\",num_comp)\n",
        "      num_comp_piorcaso.append(num_comp)\n",
        "      num_comp = 0\n",
        "      #print(tempo_piorcaso[i-1])\n",
        "      #busca em 100 casos aleatórios\n",
        "      \n",
        "      #print(\"tempo=\",t)\n",
        "print(\"tempo pior caso =\\n\", tempo_piorcaso)\n",
        "print(\"Número de Comparações no pior caso =\",num_comp_piorcaso)"
      ],
      "metadata": {
        "colab": {
          "base_uri": "https://localhost:8080/"
        },
        "id": "DVe0O8usFHG-",
        "outputId": "b24987a5-fb52-490d-9b61-7e0932b2a6b7"
      },
      "execution_count": 65,
      "outputs": [
        {
          "output_type": "stream",
          "name": "stdout",
          "text": [
            "tempo pior caso =\n",
            " [0.0, 0.0, 0.0, 0.0001, 0.0, 0.0, 0.0, 0.0, 0.0, 0.0]\n",
            "Número de Comparações no pior caso = [17, 18, 19, 19, 19, 20, 20, 20, 20, 20]\n"
          ]
        }
      ]
    },
    {
      "cell_type": "code",
      "source": [
        "tempo_casoaleat = []\n",
        "num_comp_casos_aleat = []\n",
        "desvios_tempo = []\n",
        "desvios_comp = []\n",
        "for i in range(1,11,1):\n",
        "      strArq = \"arq\"+str(i)+\"_sort.txt\"\n",
        "      #print(strArq)\n",
        "      array = np.loadtxt(strArq)\n",
        "      size = len(array)\n",
        "      #print(\"Array = \",array)\n",
        "      #print(\"tamanho\",size)\n",
        "      t = 0.0\n",
        "      tempo_total = 0.0\n",
        "      chave_aleat = genChavealet(len(array),100)\n",
        "      #print(\"chaves aleeatórias = \",chave_aleat)\n",
        "      total_num_comp = 0\n",
        "      for j in range(100):\n",
        "          t = timeit.timeit(lambda: buscaBin(array,chave_aleat[j]), number=1)\n",
        "          tempo_total +=t\n",
        "          Taux.append(t)\n",
        "          t = 0\n",
        "          total_num_comp += num_comp\n",
        "          nc.append(num_comp)\n",
        "          \n",
        "          num_comp = 0\n",
        "\n",
        "          \n",
        "      tempo_casoaleat.append(tempo_total/100)\n",
        "      num_comp_casos_aleat.append(int(total_num_comp/100))\n",
        "      desvios_tempo.append(statistics.pstdev(Taux))\n",
        "      desvios_comp.append(int(statistics.pstdev(nc)))\n",
        "      total_num_comp = 0\n",
        "      tempo_total = 0.0\n",
        "print(\"tempos medios em 100 casos aleatórios=\\n \",tempo_casoaleat)\n",
        "print(\"número médio de comparações em casos aleatórios=\\n \",num_comp_casos_aleat)\n",
        "print(\"Desvio padrão Tempo\\n\",desvios_tempo)\n",
        "print(\"Desvio padrão Comparações\\n\",desvios_comp)"
      ],
      "metadata": {
        "colab": {
          "base_uri": "https://localhost:8080/"
        },
        "id": "vz_KSXzeErxb",
        "outputId": "450bc376-3dde-40a4-e506-9db5cca30bcf"
      },
      "execution_count": 83,
      "outputs": [
        {
          "output_type": "stream",
          "name": "stdout",
          "text": [
            "tempos medios em 100 casos aleatórios=\n",
            "  [1.3370470023801317e-05, 1.3640490178659093e-05, 1.4238090207072674e-05, 1.5484240011574003e-05, 1.4418839982681675e-05, 1.5022940060589462e-05, 1.4854410037514754e-05, 1.5093329948285827e-05, 3.123224994851625e-05, 1.5752660001453478e-05]\n",
            "número médio de comparações em casos aleatórios=\n",
            "  [16, 17, 17, 18, 18, 19, 19, 19, 19, 19]\n",
            "Desvio padrão Tempo\n",
            " [7.311874831796846e-05, 7.16128112094839e-05, 7.019314133054407e-05, 6.88573574029665e-05, 6.758881244584426e-05, 6.638316919325784e-05, 6.524083884144936e-05, 6.415481786172131e-05, 6.308267737346363e-05, 6.20998398857723e-05]\n",
            "Desvio padrão Comparações\n",
            " [169, 166, 162, 159, 156, 153, 150, 148, 146, 143]\n"
          ]
        }
      ]
    }
  ]
}