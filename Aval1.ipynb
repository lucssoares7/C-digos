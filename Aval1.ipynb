{
  "nbformat": 4,
  "nbformat_minor": 0,
  "metadata": {
    "colab": {
      "provenance": [],
      "authorship_tag": "ABX9TyNdmuuYsuVJk1CH9ILqS/5j",
      "include_colab_link": true
    },
    "kernelspec": {
      "name": "python3",
      "display_name": "Python 3"
    },
    "language_info": {
      "name": "python"
    }
  },
  "cells": [
    {
      "cell_type": "markdown",
      "metadata": {
        "id": "view-in-github",
        "colab_type": "text"
      },
      "source": [
        "<a href=\"https://colab.research.google.com/github/lucssoares7/C-digos/blob/main/Aval1.ipynb\" target=\"_parent\"><img src=\"https://colab.research.google.com/assets/colab-badge.svg\" alt=\"Open In Colab\"/></a>"
      ]
    },
    {
      "cell_type": "markdown",
      "source": [
        "Gerador de números pseudoaleatórios, o conjunto de dados foi salvo em 10 arquivos separados."
      ],
      "metadata": {
        "id": "C-s-U2wrmpdb"
      }
    },
    {
      "cell_type": "code",
      "source": [
        "#gerador de números aleatórios\n",
        "import random\n",
        "import numpy as np\n",
        "\n",
        "def gen(array, max, size):\n",
        "    num = random.sample(range(-max,max),size)\n",
        "    for i in range(size):\n",
        "        array[i] = num[i]\n",
        "\n",
        "    return array\n",
        "    \n",
        "tax = 1\n",
        "\n",
        "for tax in range(1,11,1):\n",
        "    #tax = tax + 1\n",
        "    size = 100000    \n",
        "    strArq = \"arq\"+str(tax)+\".txt\"\n",
        "    #arq1 = open(strArq,\"w+\")\n",
        "    size = size*(tax)\n",
        "    vetor = [0]*size\n",
        "    Array = np.array(gen(vetor,size,size))\n",
        "    np.savetxt(strArq, Array)\n",
        "    #arq1.close()"
      ],
      "metadata": {
        "id": "gcSlwb3pjJA7"
      },
      "execution_count": null,
      "outputs": []
    },
    {
      "cell_type": "markdown",
      "source": [
        "Ordenar os conjuntos de dados e gerar novos arquivos com os conjuntos ordenados\n"
      ],
      "metadata": {
        "id": "lxKDftHUyPli"
      }
    },
    {
      "cell_type": "code",
      "execution_count": null,
      "metadata": {
        "id": "Qc2Tg-LFhVIG",
        "colab": {
          "base_uri": "https://localhost:8080/"
        },
        "outputId": "0eae9a76-7478-4cdd-d098-4c375fd46280"
      },
      "outputs": [
        {
          "output_type": "stream",
          "name": "stdout",
          "text": [
            "[-50697.  48193. -29179. ...  66668.   -976.  48016.]\n",
            "100000\n",
            "[-137796.  152740.  116408. ...  100112.  -64511. -130734.]\n",
            "200000\n",
            "[ 65391.  23327. -22921. ... 131496. 108748. -33469.]\n",
            "300000\n",
            "[-370073. -220064.   70000. ... -321788.   29205. -133928.]\n",
            "400000\n",
            "[-359914. -124040. -135529. ...  173088. -429103. -229672.]\n",
            "500000\n",
            "[-599525.  480433. -589093. ...  182038.  -47409. -165046.]\n",
            "600000\n",
            "[-557888. -255675.  376605. ... -297713.  115247. -133377.]\n",
            "700000\n",
            "[-201563.  790925.  477716. ...  611614.  402047.  -77250.]\n",
            "800000\n",
            "[ 371218.  207240. -439948. ...  632078. -508252. -500855.]\n",
            "900000\n",
            "[ -53847.   19890. -383635. ... -946414. -196258. -927398.]\n",
            "1000000\n"
          ]
        }
      ],
      "source": [
        "from typing import List\n",
        "import numpy\n",
        "\n",
        "for i in range(1,11,1):\n",
        "      strArq = \"arq\"+str(i)+\".txt\"\n",
        "      #print(strArq)\n",
        "      array = np.loadtxt(strArq)\n",
        "      print(array)\n",
        "      print(len(array))\n",
        "      array_sort = np.sort(array)\n",
        "      np.savetxt(\"arq\"+str(i)+\"_sort.txt\", array_sort)\n"
      ]
    },
    {
      "cell_type": "markdown",
      "source": [
        "gerador de chaves de busca aleatórias"
      ],
      "metadata": {
        "id": "gFQAHDlNa9Qa"
      }
    },
    {
      "cell_type": "code",
      "source": [
        "def genChavealet(max, size):\n",
        "    vetor = [0]*size\n",
        "    return np.array(gen(vetor,max,size))"
      ],
      "metadata": {
        "id": "692WSttka1WA"
      },
      "execution_count": null,
      "outputs": []
    },
    {
      "cell_type": "markdown",
      "source": [
        "Algoritmos de busca\n",
        "a) Busca sequencial padrão;\n",
        "b) Busca por saltos (jump search);\n",
        "c) Busca binária"
      ],
      "metadata": {
        "id": "qFn23lA8yWJj"
      }
    },
    {
      "cell_type": "markdown",
      "source": [
        "Busca sequencial"
      ],
      "metadata": {
        "id": "S769n9l1ETkX"
      }
    },
    {
      "cell_type": "code",
      "source": [
        "import timeit\n",
        "\n",
        "num_comp = 0\n",
        "\n",
        "def buscaSeq(vet, chave):\n",
        "    pos = 0\n",
        "    for pos in range(0, len(vet),1):\n",
        "      #time.sleep(1)\n",
        "      global num_comp\n",
        "      num_comp = num_comp + 1\n",
        "      if(vet[pos]==chave):\n",
        "        return pos\n",
        "    \n",
        "    return -1 \n",
        "\n",
        "#carregar vetores\n",
        "#array1 = np.loadtxt(\"arq1.txt\")\n",
        "#print(array1)\n",
        "#print(len(array1))\n",
        "tempo_piorcaso = []\n",
        "tempo_casoaleat = []\n",
        "num_comp_piorcaso = []\n",
        "num_comp_casos_aleat = []\n",
        "for i in range(1,11,1):\n",
        "      strArq = \"arq\"+str(i)+\".txt\"\n",
        "      #print(strArq)\n",
        "      array = np.loadtxt(strArq)\n",
        "      print(\"Array = \",array)\n",
        "      print(\"tamanho\",len(array))\n",
        "      chave = array[-1]\n",
        "      print(\"chave = \", chave)\n",
        "      tempo_piorcaso.append(timeit.timeit(lambda: buscaSeq(array,chave), number=1))\n",
        "      print(\"Número de Comparações =\",num_comp)\n",
        "      num_comp_piorcaso.append(num_comp)\n",
        "      num_comp = 0\n",
        "      t = 0.0\n",
        "      chave_aleat = genChavealet(len(array),100)\n",
        "      #print(\"chaves aleeatórias = \",chave_aleat)\n",
        "      total_num_comp = 0\n",
        "      for j in range(100):\n",
        "          t = timeit.timeit(lambda: buscaSeq(array,chave_aleat[j]), number=1)\n",
        "          tempo_total +=t\n",
        "          t = 0\n",
        "          total_num_comp += num_comp\n",
        "          num_comp = 0\n",
        "      tempo_casoaleat.append(tempo_total/100)\n",
        "      num_comp_casos_aleat.append(total_num_comp/100)\n",
        "      total_num_comp = 0\n",
        "      tempo_total = 0.0\n",
        "      #print(\"tempo=\",t)\n",
        "print(\"tempo pior caso =\\n\", tempo_piorcaso)\n",
        "print(\"Número de Comparações no pior caso =\",num_comp_piorcaso)\n",
        "print(\"tempos medios em 100 casos aleatórios=\\n \",tempo_casoaleat)\n",
        "print(\"número médio de comparações em casos aleatórios=\\n \",num_comp_casos_aleat)"
      ],
      "metadata": {
        "colab": {
          "base_uri": "https://localhost:8080/"
        },
        "id": "3c4n0bfyESow",
        "outputId": "2bdd1863-be65-4641-b8e1-41aff440439a"
      },
      "execution_count": null,
      "outputs": [
        {
          "output_type": "stream",
          "name": "stdout",
          "text": [
            "Array =  [-50697.  48193. -29179. ...  66668.   -976.  48016.]\n",
            "tamanho 100000\n",
            "chave =  48016.0\n",
            "Número de Comparações = 100000\n",
            "Array =  [-137796.  152740.  116408. ...  100112.  -64511. -130734.]\n",
            "tamanho 200000\n",
            "chave =  -130734.0\n",
            "Número de Comparações = 200000\n",
            "Array =  [ 65391.  23327. -22921. ... 131496. 108748. -33469.]\n",
            "tamanho 300000\n",
            "chave =  -33469.0\n",
            "Número de Comparações = 300000\n",
            "Array =  [-370073. -220064.   70000. ... -321788.   29205. -133928.]\n",
            "tamanho 400000\n",
            "chave =  -133928.0\n",
            "Número de Comparações = 400000\n",
            "Array =  [-359914. -124040. -135529. ...  173088. -429103. -229672.]\n",
            "tamanho 500000\n",
            "chave =  -229672.0\n",
            "Número de Comparações = 500000\n",
            "Array =  [-599525.  480433. -589093. ...  182038.  -47409. -165046.]\n",
            "tamanho 600000\n",
            "chave =  -165046.0\n",
            "Número de Comparações = 600000\n",
            "Array =  [-557888. -255675.  376605. ... -297713.  115247. -133377.]\n",
            "tamanho 700000\n",
            "chave =  -133377.0\n",
            "Número de Comparações = 700000\n",
            "Array =  [-201563.  790925.  477716. ...  611614.  402047.  -77250.]\n",
            "tamanho 800000\n",
            "chave =  -77250.0\n",
            "Número de Comparações = 800000\n",
            "Array =  [ 371218.  207240. -439948. ...  632078. -508252. -500855.]\n",
            "tamanho 900000\n",
            "chave =  -500855.0\n",
            "Número de Comparações = 900000\n",
            "Array =  [ -53847.   19890. -383635. ... -946414. -196258. -927398.]\n",
            "tamanho 1000000\n",
            "chave =  -927398.0\n",
            "Número de Comparações = 1000000\n",
            "tempo pior caso =\n",
            " [0.023238126001160708, 0.04546434300027613, 0.0616986379991431, 0.08592254799987131, 0.10795474100086722, 0.12342704299953766, 0.3066855119996035, 0.16728360799970687, 0.4191214759994182, 0.22755402300026617]\n",
            "Número de Comparações no pior caso = [100000, 200000, 300000, 400000, 500000, 600000, 700000, 800000, 900000, 1000000]\n",
            "tempos medios em 100 casos aleatórios=\n",
            "  [0.019987973509978475, 0.059087128849896545, 0.06684983293995174, 0.09555591618987819, 0.11537389129001895, 0.16222824590997334, 0.16815536643996892, 0.18509335317012302, 0.22830858935009019, 0.2620391202301289]\n",
            "número médio de comparações em casos aleatórios=\n",
            "  [68344.65, 148655.38, 232413.01, 277394.29, 345178.97, 511702.81, 479557.8, 546542.16, 688661.18, 802875.44]\n"
          ]
        }
      ]
    },
    {
      "cell_type": "markdown",
      "source": [
        "Busca Jump"
      ],
      "metadata": {
        "id": "IQOrYPiSEkhQ"
      }
    },
    {
      "cell_type": "code",
      "source": [
        "import math\n",
        "import timeit\n",
        "\n",
        "num_comp = 0\n",
        "def buscaJump(vet,chave):\n",
        "    n = len(vet)\n",
        "    size = int(math.sqrt(n))\n",
        "    left, right = 0, 0\n",
        "    \n",
        "    while right < n and vet[right] < chave:\n",
        "        left = right\n",
        "        right += size\n",
        "  \n",
        "    for i in range(left, min(right, n)):\n",
        "        global num_comp\n",
        "        num_comp = num_comp+1\n",
        "        if vet[i] == chave:\n",
        "            return i\n",
        "    return -1\n",
        "\n",
        "#carregar vetores\n",
        "tempo_piorcaso = []\n",
        "tempo_casoaleat = []\n",
        "num_comp_piorcaso = []\n",
        "num_comp_casos_aleat = []\n",
        "for i in range(1,11,1):\n",
        "      strArq = \"arq\"+str(i)+\"_sort.txt\"\n",
        "      #print(strArq)\n",
        "      array = np.loadtxt(strArq)\n",
        "      print(\"Array = \",array)\n",
        "      print(\"tamanho\",len(array))\n",
        "      chave = len(array)+1\n",
        "      #pior caso, chave não está no array\n",
        "      print(\"chave = \", chave)\n",
        "      tempo_piorcaso.append(timeit.timeit(lambda: buscaJump(array,chave), number=1))\n",
        "      t = 0.0\n",
        "      print(\"Número de Comparações =\",num_comp)\n",
        "      num_comp_piorcaso.append(num_comp)\n",
        "      num_comp = 0\n",
        "      chave_aleat = genChavealet(len(array),100)\n",
        "      total_num_comp = 0\n",
        "      for j in range(100):\n",
        "          t = timeit.timeit(lambda: buscaJump(array,chave_aleat[j]), number=1)\n",
        "          tempo_total +=t\n",
        "          t = 0\n",
        "          total_num_comp += num_comp\n",
        "          num_comp = 0\n",
        "      tempo_casoaleat.append(tempo_total/100)\n",
        "      num_comp_casos_aleat.append(total_num_comp/100)\n",
        "      total_num_comp = 0\n",
        "      tempo_total = 0.0\n",
        "      #print(\"tempo=\",t)\n",
        "print(\"tempo pior caso =\\n\", tempo_piorcaso)\n",
        "print(\"Número de Comparações no pior caso =\",num_comp_piorcaso)\n",
        "print(\"tempos medios em 100 casos aleatórios=\\n \",tempo_casoaleat)\n",
        "print(\"número médio de comparações em casos aleatórios=\\n \",num_comp_casos_aleat)"
      ],
      "metadata": {
        "colab": {
          "base_uri": "https://localhost:8080/"
        },
        "id": "Hggj_2EgEsuR",
        "outputId": "916a373a-040c-4fe3-c3b4-fefbfd7b3fb0"
      },
      "execution_count": null,
      "outputs": [
        {
          "output_type": "stream",
          "name": "stdout",
          "text": [
            "Array =  [-99996. -99993. -99992. ...  99996.  99997.  99999.]\n",
            "tamanho 100000\n",
            "chave =  100001\n",
            "Número de Comparações = 144\n",
            "Array =  [-200000. -199999. -199995. ...  199996.  199997.  199998.]\n",
            "tamanho 200000\n",
            "chave =  200001\n",
            "Número de Comparações = 191\n",
            "Array =  [-299994. -299992. -299991. ...  299997.  299998.  299999.]\n",
            "tamanho 300000\n",
            "chave =  300001\n",
            "Número de Comparações = 244\n",
            "Array =  [-399999. -399996. -399995. ...  399995.  399996.  399997.]\n",
            "tamanho 400000\n",
            "chave =  400001\n",
            "Número de Comparações = 576\n",
            "Array =  [-500000. -499999. -499997. ...  499995.  499997.  499998.]\n",
            "tamanho 500000\n",
            "chave =  500001\n",
            "Número de Comparações = 151\n",
            "Array =  [-599997. -599995. -599992. ...  599994.  599995.  599997.]\n",
            "tamanho 600000\n",
            "chave =  600001\n",
            "Número de Comparações = 150\n",
            "Array =  [-699999. -699996. -699995. ...  699997.  699998.  699999.]\n",
            "tamanho 700000\n",
            "chave =  700001\n",
            "Número de Comparações = 268\n",
            "Array =  [-799998. -799997. -799994. ...  799995.  799998.  799999.]\n",
            "tamanho 800000\n",
            "chave =  800001\n",
            "Número de Comparações = 764\n",
            "Array =  [-899998. -899997. -899996. ...  899990.  899994.  899998.]\n",
            "tamanho 900000\n",
            "chave =  900001\n",
            "Número de Comparações = 348\n",
            "Array =  [-1000000.  -999999.  -999998. ...   999994.   999996.   999998.]\n",
            "tamanho 1000000\n",
            "chave =  1000001\n",
            "Número de Comparações = 1000\n",
            "tempo pior caso =\n",
            " [0.00018855300004361197, 0.0002612249991216231, 0.00032251999982690904, 0.0005152020003151847, 0.00038844200025778264, 0.0004150420008954825, 0.0004537229997367831, 0.0006993220013100654, 0.0005699559987988323, 0.0017716429993015481]\n",
            "Número de Comparações no pior caso = [144, 191, 244, 576, 151, 150, 268, 764, 348, 1000]\n",
            "tempos medios em 100 casos aleatórios=\n",
            "  [0.00012201340001411154, 0.0001570523101327126, 0.00017571294994922937, 0.00025096252004004784, 0.00023442140005499823, 0.00031219438977132086, 0.0002861330700034159, 0.0003462712800137524, 0.00033444317001340095, 0.0007183792299656488]\n",
            "número médio de comparações em casos aleatórios=\n",
            "  [250.22, 347.44, 403.68, 460.06, 517.09, 611.38, 620.55, 702.51, 693.98, 755.81]\n"
          ]
        }
      ]
    },
    {
      "cell_type": "markdown",
      "source": [
        "Busca binária"
      ],
      "metadata": {
        "id": "znoHgclqE1Ud"
      }
    },
    {
      "cell_type": "code",
      "source": [
        "from traitlets.config.application import T\n",
        "import math\n",
        "import timeit\n",
        "\n",
        "num_comp = 0\n",
        "def buscaBin(vet,chave):\n",
        "  size = len(vet)\n",
        "  posIni=0\n",
        "  posFim=size-1\n",
        "  posMeio = 0\n",
        "  while(posIni <=posFim):\n",
        "    posMeio = int((posIni+posFim)/2)\n",
        "    global num_comp\n",
        "    num_comp = num_comp+1\n",
        "    if(vet[posMeio]==chave):\n",
        "      return posMeio\n",
        "    elif(vet[posMeio] > chave):\n",
        "      posFim = posMeio -1\n",
        "    else:\n",
        "      posIni = posMeio+1\n",
        "  return -1\n",
        "\n",
        "#carregar valores\n",
        "tempo_piorcaso = []\n",
        "tempo_casoaleat = []\n",
        "num_comp_piorcaso = []\n",
        "num_comp_casos_aleat = []\n",
        "for i in range(1,11,1):\n",
        "      strArq = \"arq\"+str(i)+\"_sort.txt\"\n",
        "      #print(strArq)\n",
        "      array = np.loadtxt(strArq)\n",
        "      size = len(array)\n",
        "      print(\"Array = \",array)\n",
        "      print(\"tamanho\",size)\n",
        "      chave = size+1\n",
        "      #busca no pior caso, chave não está no array\n",
        "      print(\"chave = \", chave)\n",
        "      tempo_piorcaso.append(timeit.timeit(lambda: buscaBin(array,chave), number=1))\n",
        "      #print(\"Número de Comparações no pior caso =\",num_comp)\n",
        "      num_comp_piorcaso.append(num_comp)\n",
        "      num_comp = 0\n",
        "      #print(tempo_piorcaso[i-1])\n",
        "      #busca em 100 casos aleatórios\n",
        "      t = 0.0\n",
        "      tempo_total = 0.0\n",
        "      chave_aleat = genChavealet(len(array),100)\n",
        "      #print(\"chaves aleeatórias = \",chave_aleat)\n",
        "      total_num_comp = 0\n",
        "      for j in range(100):\n",
        "          t = timeit.timeit(lambda: buscaBin(array,chave_aleat[j]), number=1)\n",
        "          tempo_total +=t\n",
        "          t = 0\n",
        "          total_num_comp += num_comp\n",
        "          num_comp = 0\n",
        "      tempo_casoaleat.append(tempo_total/100)\n",
        "      num_comp_casos_aleat.append(total_num_comp/100)\n",
        "      total_num_comp = 0\n",
        "      tempo_total = 0.0\n",
        "      #print(\"tempo=\",t)\n",
        "print(\"tempo pior caso =\\n\", tempo_piorcaso)\n",
        "print(\"Número de Comparações no pior caso =\",num_comp_piorcaso)\n",
        "print(\"tempos medios em 100 casos aleatórios=\\n \",tempo_casoaleat)\n",
        "print(\"número médio de comparações em casos aleatórios=\\n \",num_comp_casos_aleat)"
      ],
      "metadata": {
        "id": "fRnuVBKKybC_",
        "colab": {
          "base_uri": "https://localhost:8080/"
        },
        "outputId": "1163b2ce-c91a-4b20-c337-6af1f79001af"
      },
      "execution_count": null,
      "outputs": [
        {
          "output_type": "stream",
          "name": "stdout",
          "text": [
            "Array =  [-99996. -99993. -99992. ...  99996.  99997.  99999.]\n",
            "tamanho 100000\n",
            "chave =  100001\n",
            "Array =  [-200000. -199999. -199995. ...  199996.  199997.  199998.]\n",
            "tamanho 200000\n",
            "chave =  200001\n",
            "Array =  [-299994. -299992. -299991. ...  299997.  299998.  299999.]\n",
            "tamanho 300000\n",
            "chave =  300001\n",
            "Array =  [-399999. -399996. -399995. ...  399995.  399996.  399997.]\n",
            "tamanho 400000\n",
            "chave =  400001\n",
            "Array =  [-500000. -499999. -499997. ...  499995.  499997.  499998.]\n",
            "tamanho 500000\n",
            "chave =  500001\n",
            "Array =  [-599997. -599995. -599992. ...  599994.  599995.  599997.]\n",
            "tamanho 600000\n",
            "chave =  600001\n",
            "Array =  [-699999. -699996. -699995. ...  699997.  699998.  699999.]\n",
            "tamanho 700000\n",
            "chave =  700001\n",
            "Array =  [-799998. -799997. -799994. ...  799995.  799998.  799999.]\n",
            "tamanho 800000\n",
            "chave =  800001\n",
            "Array =  [-899998. -899997. -899996. ...  899990.  899994.  899998.]\n",
            "tamanho 900000\n",
            "chave =  900001\n",
            "Array =  [-1000000.  -999999.  -999998. ...   999994.   999996.   999998.]\n",
            "tamanho 1000000\n",
            "chave =  1000001\n",
            "tempo pior caso =\n",
            " [2.5727000320330262e-05, 2.689400025701616e-05, 2.716999915719498e-05, 2.6510000679991208e-05, 2.742200013017282e-05, 5.084099939267617e-05, 2.8974000088055618e-05, 2.800599941110704e-05, 2.8077000024495646e-05, 2.858500010916032e-05]\n",
            "Número de Comparações no pior caso = [17, 18, 19, 19, 19, 20, 20, 20, 20, 20]\n",
            "tempos medios em 100 casos aleatórios=\n",
            "  [1.3672129989572568e-05, 1.5038599940453423e-05, 1.5059410034155007e-05, 1.5098779858817579e-05, 1.51807699148776e-05, 3.185212979587959e-05, 1.7235470040759536e-05, 2.9950459975225385e-05, 1.6813409984024475e-05, 3.1827480015635956e-05]\n",
            "número médio de comparações em casos aleatórios=\n",
            "  [16.18, 17.07, 17.47, 18.24, 18.51, 18.94, 19.05, 19.2, 19.59, 19.56]\n"
          ]
        }
      ]
    }
  ]
}