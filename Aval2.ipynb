{
  "nbformat": 4,
  "nbformat_minor": 0,
  "metadata": {
    "colab": {
      "provenance": [],
      "authorship_tag": "ABX9TyM6+jEJEgNHnLxANe73DDSU",
      "include_colab_link": true
    },
    "kernelspec": {
      "name": "python3",
      "display_name": "Python 3"
    },
    "language_info": {
      "name": "python"
    }
  },
  "cells": [
    {
      "cell_type": "markdown",
      "metadata": {
        "id": "view-in-github",
        "colab_type": "text"
      },
      "source": [
        "<a href=\"https://colab.research.google.com/github/lucssoares7/C-digos/blob/main/Aval2.ipynb\" target=\"_parent\"><img src=\"https://colab.research.google.com/assets/colab-badge.svg\" alt=\"Open In Colab\"/></a>"
      ]
    },
    {
      "cell_type": "code",
      "execution_count": 2,
      "metadata": {
        "id": "IhlqccWOUpFk"
      },
      "outputs": [],
      "source": [
        "#gerador de números aleatórios\n",
        "import random\n",
        "import numpy as np\n",
        "\n",
        "def gen(array, max, size):\n",
        "    num = random.sample(range(-max,max),size)\n",
        "    for i in range(size):\n",
        "        array[i] = num[i]\n",
        "\n",
        "    return array\n",
        "    \n",
        "tax = 1\n",
        "\n",
        "#def gerador:\n",
        "\n",
        "for tax in range(1,11,1):\n",
        "    #tax = tax + 1\n",
        "    size = 100000    \n",
        "    strArq = \"arq\"+str(tax)+\".txt\"\n",
        "    #arq1 = open(strArq,\"w+\")\n",
        "    size = size*(tax)\n",
        "    vetor = [0]*size\n",
        "    Array = np.array(gen(vetor,size,size))\n",
        "    np.savetxt(strArq, Array)\n",
        "    #arq1.close()"
      ]
    },
    {
      "cell_type": "markdown",
      "source": [
        "Ordenação dos casos de teste"
      ],
      "metadata": {
        "id": "qFsOoLczsVX7"
      }
    },
    {
      "cell_type": "code",
      "source": [
        "from typing import List\n",
        "import numpy\n",
        "import timeit\n",
        "\n",
        "for i in range(1,11,1):\n",
        "      strArq = \"arq\"+str(i)+\".txt\"\n",
        "      #print(strArq)\n",
        "      array = np.loadtxt(strArq)\n",
        "      #print(array)\n",
        "      #print(len(array))\n",
        "      print(\"Tempo = \", i, \" \",timeit.timeit(lambda: np.sort(array), number=1))\n",
        "      array_sort = np.sort(array)\n",
        "      np.savetxt(\"arq\"+str(i)+\"_sort.txt\", array_sort)\n"
      ],
      "metadata": {
        "colab": {
          "base_uri": "https://localhost:8080/"
        },
        "id": "OOfzLhAKU6UE",
        "outputId": "4d290f5c-103f-4337-e852-9c3e7b7b284d"
      },
      "execution_count": 2,
      "outputs": [
        {
          "output_type": "stream",
          "name": "stdout",
          "text": [
            "Tempo =  1   0.0086314909999885\n",
            "Tempo =  2   0.01962248499998509\n",
            "Tempo =  3   0.02788163299999269\n",
            "Tempo =  4   0.037854828999996926\n",
            "Tempo =  5   0.04884173199999964\n",
            "Tempo =  6   0.058928036999986944\n",
            "Tempo =  7   0.07139613500001474\n",
            "Tempo =  8   0.0800080519999824\n",
            "Tempo =  9   0.09233484400002112\n",
            "Tempo =  10   0.10461924599999861\n"
          ]
        }
      ]
    },
    {
      "cell_type": "code",
      "source": [
        "def genChavealet(max, size):\n",
        "    vetor = [0]*size\n",
        "    return np.array(gen(vetor,max,size))"
      ],
      "metadata": {
        "id": "xniHHh_EU9In"
      },
      "execution_count": 3,
      "outputs": []
    },
    {
      "cell_type": "markdown",
      "source": [
        "Busca sequencial padrão"
      ],
      "metadata": {
        "id": "ERnEWuJ8seIC"
      }
    },
    {
      "cell_type": "code",
      "source": [
        "import timeit\n",
        "\n",
        "num_comp = 0\n",
        "\n",
        "def buscaSeq(vet, chave):\n",
        "    pos = 0\n",
        "    for pos in range(0, len(vet),1):\n",
        "      #time.sleep(1)\n",
        "      global num_comp\n",
        "      num_comp = num_comp + 1\n",
        "      if(vet[pos]==chave):\n",
        "        return pos\n",
        "    \n",
        "    return -1 \n",
        "\n",
        "      "
      ],
      "metadata": {
        "id": "yaFCsUZksdxd"
      },
      "execution_count": 4,
      "outputs": []
    },
    {
      "cell_type": "markdown",
      "source": [
        "Teste da busca sequencial padrão no pior caso"
      ],
      "metadata": {
        "id": "atlF7wXNs0XE"
      }
    },
    {
      "cell_type": "code",
      "source": [
        "import math\n",
        "#carregar vetores\n",
        "#array1 = np.loadtxt(\"arq1.txt\")\n",
        "#print(array1)\n",
        "#print(len(array1))\n",
        "tempo_piorcaso = []\n",
        "num_comp_piorcaso = []\n",
        "\n",
        "for i in range(1,11,1):\n",
        "      strArq = \"arq\"+str(i)+\".txt\"\n",
        "      #print(strArq)\n",
        "      array = np.loadtxt(strArq)\n",
        "      #print(\"Array = \",array)\n",
        "      #print(\"tamanho\",len(array))\n",
        "      chave = array[-1]\n",
        "      #print(\"chave = \", chave)\n",
        "      #taux = \n",
        "      #print()\n",
        "      tempo_piorcaso.append(round(timeit.timeit(lambda: buscaSeq(array,chave), number=1),4))\n",
        "      taux = 0\n",
        "      #print(\"Número de Comparações =\",num_comp)\n",
        "      num_comp_piorcaso.append(num_comp)\n",
        "      num_comp = 0\n",
        "\n",
        "print(\"tempo pior caso =\\n\", tempo_piorcaso)\n",
        "print(\"Número de Comparações no pior caso =\\n\",num_comp_piorcaso)"
      ],
      "metadata": {
        "colab": {
          "base_uri": "https://localhost:8080/"
        },
        "id": "wr7wcKyysvp4",
        "outputId": "0a4cee24-74ab-44af-da4f-6de01f001d1a"
      },
      "execution_count": 5,
      "outputs": [
        {
          "output_type": "stream",
          "name": "stdout",
          "text": [
            "tempo pior caso =\n",
            " [0.0232, 0.0364, 0.0603, 0.0711, 0.102, 0.1077, 0.1247, 0.1496, 0.3688, 0.1814]\n",
            "Número de Comparações no pior caso =\n",
            " [100000, 200000, 300000, 400000, 500000, 600000, 700000, 800000, 900000, 1000000]\n"
          ]
        }
      ]
    },
    {
      "cell_type": "markdown",
      "source": [
        "Teste em 100 casos aleatórios"
      ],
      "metadata": {
        "id": "rEXzoV_Ds8kk"
      }
    },
    {
      "cell_type": "code",
      "source": [
        "import math\n",
        "import statistics\n",
        "tempo_casoaleat = []\n",
        "num_comp_casos_aleat = []\n",
        "desvios_tempo = []\n",
        "desvios_comp = []\n",
        "for i in range(1,11,1):\n",
        "      strArq = \"arq\"+str(i)+\".txt\"\n",
        "      #print(strArq)\n",
        "      array = np.loadtxt(strArq)\n",
        "      #print(\"Array = \",array)\n",
        "      #print(\"tamanho\",len(array))\n",
        "      t = 0.0\n",
        "      chave_aleat = genChavealet(len(array),100)\n",
        "      #print(\"chaves aleeatórias = \",chave_aleat)\n",
        "      tempo_total = 0.0\n",
        "      Taux = []\n",
        "      nc = []\n",
        "      \n",
        "      total_num_comp = 0.0\n",
        "      for j in range(100):\n",
        "          t = round(timeit.timeit(lambda: buscaSeq(array,chave_aleat[j]), number=1),4)\n",
        "          tempo_total +=t\n",
        "          Taux.append(t)\n",
        "          t = 0\n",
        "          total_num_comp += num_comp\n",
        "          nc.append(num_comp)\n",
        "          num_comp = 0\n",
        "\n",
        "      desvios_tempo.append(round(statistics.pstdev(Taux),5))\n",
        "      desvios_comp.append(round(int(statistics.pstdev(nc)),5))\n",
        "      tempo_casoaleat.append(round((tempo_total/100),2))\n",
        "      num_comp_casos_aleat.append(int(total_num_comp/100))\n",
        "      total_num_comp = 0\n",
        "      \n",
        "      #print(\"tempo=\",t)\n",
        "\n",
        "print(\"tempos medios em 100 casos aleatórios=\\n \",tempo_casoaleat)\n",
        "print(\"número médio de comparações em casos aleatórios=\\n \",num_comp_casos_aleat)\n",
        "print(\"Desvio padrão Tempo\\n\",desvios_tempo)\n",
        "print(\"Desvio padrão Comparações\\n\",desvios_comp)"
      ],
      "metadata": {
        "colab": {
          "base_uri": "https://localhost:8080/"
        },
        "id": "AsCoHHPSs_fv",
        "outputId": "1c2e8309-d889-447f-bae4-8663aa7565a5"
      },
      "execution_count": 13,
      "outputs": [
        {
          "output_type": "stream",
          "name": "stdout",
          "text": [
            "tempos medios em 100 casos aleatórios=\n",
            "  [0.02, 0.04, 0.08, 0.07, 0.11, 0.13, 0.16, 0.17, 0.2, 0.2]\n",
            "número médio de comparações em casos aleatórios=\n",
            "  [78484, 147594, 245405, 284264, 377090, 440845, 527566, 615506, 655659, 741711]\n",
            "Desvio padrão Tempo\n",
            " [0.00785, 0.01703, 0.0428, 0.03598, 0.06105, 0.06765, 0.10139, 0.09592, 0.12267, 0.10073]\n",
            "Desvio padrão Comparações\n",
            " [30019, 67207, 84249, 141491, 142631, 187154, 216801, 264377, 298060, 309060]\n"
          ]
        }
      ]
    },
    {
      "cell_type": "markdown",
      "source": [
        "Busca Jump"
      ],
      "metadata": {
        "id": "2bGF15svtC22"
      }
    },
    {
      "cell_type": "code",
      "source": [
        "import math\n",
        "import timeit\n",
        "import statistics\n",
        "num_comp = 0\n",
        "def buscaJump(vet,chave):\n",
        "    n = len(vet)\n",
        "    size = int(math.sqrt(n))\n",
        "    left, right = 0, 0\n",
        "    \n",
        "    while right < n and vet[right] < chave:\n",
        "        left = right\n",
        "        right += size\n",
        "  \n",
        "    for i in range(left, min(right, n)):\n",
        "        global num_comp\n",
        "        num_comp = num_comp+1\n",
        "        if vet[i] == chave:\n",
        "            return i\n",
        "    return -1\n",
        "\n"
      ],
      "metadata": {
        "id": "fbw2qzO4tGtX"
      },
      "execution_count": 14,
      "outputs": []
    },
    {
      "cell_type": "markdown",
      "source": [
        "Teste Busca Jump no pior caso"
      ],
      "metadata": {
        "id": "5U79XgoVtKbn"
      }
    },
    {
      "cell_type": "code",
      "source": [
        "import statistics\n",
        "#carregar vetores\n",
        "tempo_piorcaso = []\n",
        "num_comp_piorcaso = []\n",
        "\n",
        "for i in range(1,11,1):\n",
        "      strArq = \"arq\"+str(i)+\"_sort.txt\"\n",
        "      #print(strArq)\n",
        "      array = np.loadtxt(strArq)\n",
        "      #print(\"Array = \",array)\n",
        "      #print(\"tamanho\",len(array))\n",
        "      chave = len(array)+1\n",
        "      #pior caso, chave não está no array\n",
        "      #print(\"chave = \", chave)\n",
        "      tempo_piorcaso.append(round(timeit.timeit(lambda: buscaJump(array,chave), number=1),4))\n",
        "      t = 0.0\n",
        "      #print(\"Número de Comparações =\",num_comp)\n",
        "      num_comp_piorcaso.append(num_comp)\n",
        "      num_comp = 0\n",
        "      \n",
        "print(\"tempo pior caso =\\n\", tempo_piorcaso)\n",
        "print(\"Número de Comparações no pior caso =\",num_comp_piorcaso)"
      ],
      "metadata": {
        "colab": {
          "base_uri": "https://localhost:8080/"
        },
        "id": "RTwAJDDctM1H",
        "outputId": "1f1d34d4-99df-4a95-b5ff-15eaab337205"
      },
      "execution_count": 15,
      "outputs": [
        {
          "output_type": "stream",
          "name": "stdout",
          "text": [
            "tempo pior caso =\n",
            " [0.0002, 0.0003, 0.0005, 0.0005, 0.0004, 0.0004, 0.0004, 0.0007, 0.001, 0.0008]\n",
            "Número de Comparações no pior caso = [144, 191, 244, 576, 151, 150, 268, 764, 348, 1000]\n"
          ]
        }
      ]
    },
    {
      "cell_type": "markdown",
      "source": [
        "Teste Busca Jump nos 100 casos aleatórios"
      ],
      "metadata": {
        "id": "OXtBCIARtR0i"
      }
    },
    {
      "cell_type": "code",
      "source": [
        "tempo_casoaleat = []\n",
        "num_comp_casos_aleat = []\n",
        "desvios_tempo = []\n",
        "desvios_comp = []\n",
        "import statistics\n",
        "for i in range(1,11,1):\n",
        "      strArq = \"arq\"+str(i)+\"_sort.txt\"\n",
        "      #print(strArq)\n",
        "      array = np.loadtxt(strArq)\n",
        "      #print(\"Array = \",array)\n",
        "      #print(\"tamanho\",len(array))\n",
        "      Taux = []\n",
        "      nc = []\n",
        "      num_comp = 0\n",
        "      chave_aleat = genChavealet(len(array),100)\n",
        "      total_num_comp = 0\n",
        "      for j in range(100):\n",
        "          t = timeit.timeit(lambda: buscaJump(array,chave_aleat[j]), number=1)\n",
        "          tempo_total +=t\n",
        "          Taux.append(t)\n",
        "          t = 0\n",
        "          total_num_comp += num_comp\n",
        "          nc.append(num_comp)\n",
        "          num_comp = 0\n",
        "      tempo_casoaleat.append(round((tempo_total/100),5))\n",
        "      num_comp_casos_aleat.append(total_num_comp/100)\n",
        "      desvios_tempo.append(round(int(statistics.pstdev(Taux)),5))\n",
        "      desvios_comp.append(int(statistics.pstdev(nc)))\n",
        "      total_num_comp = 0\n",
        "      tempo_total = 0.0\n",
        "      #print(\"tempo=\",t)\n",
        "\n",
        "print(\"tempos medios em 100 casos aleatórios=\\n \",tempo_casoaleat)\n",
        "print(\"número médio de comparações em casos aleatórios=\\n \",num_comp_casos_aleat)\n",
        "print(\"Desvio padrão Tempo\\n\",desvios_tempo)\n",
        "print(\"Desvio padrão Comparações\\n\",desvios_comp)"
      ],
      "metadata": {
        "colab": {
          "base_uri": "https://localhost:8080/"
        },
        "id": "LJ_flJzXtQ1g",
        "outputId": "277fa03f-aab6-4fb0-e627-e9bcfae1ee4c"
      },
      "execution_count": 18,
      "outputs": [
        {
          "output_type": "stream",
          "name": "stdout",
          "text": [
            "tempos medios em 100 casos aleatórios=\n",
            "  [0.0001, 0.00015, 0.00016, 0.00018, 0.00022, 0.00023, 0.00051, 0.0006, 0.00032, 0.00031]\n",
            "número médio de comparações em casos aleatórios=\n",
            "  [244.98, 337.71, 401.03, 468.18, 550.09, 572.97, 627.07, 661.9, 687.01, 766.26]\n",
            "Desvio padrão Tempo\n",
            " [0, 0, 0, 0, 0, 0, 0, 0, 0, 0]\n",
            "Desvio padrão Comparações\n",
            " [102, 139, 179, 201, 212, 249, 274, 297, 308, 325]\n"
          ]
        }
      ]
    },
    {
      "cell_type": "markdown",
      "source": [
        "Busca binária"
      ],
      "metadata": {
        "id": "ilgP6GidtcuL"
      }
    },
    {
      "cell_type": "code",
      "source": [
        "import math\n",
        "import timeit\n",
        "\n",
        "num_comp = 0\n",
        "def buscaBin(vet,chave):\n",
        "  size = len(vet)\n",
        "  posIni=0\n",
        "  posFim=size-1\n",
        "  posMeio = 0\n",
        "  while(posIni <=posFim):\n",
        "    posMeio = int((posIni+posFim)/2)\n",
        "    global num_comp\n",
        "    num_comp = num_comp+1\n",
        "    if(vet[posMeio]==chave):\n",
        "      return posMeio\n",
        "    elif(vet[posMeio] > chave):\n",
        "      posFim = posMeio -1\n",
        "    else:\n",
        "      posIni = posMeio+1\n",
        "  return -1\n",
        "\n"
      ],
      "metadata": {
        "id": "mQ-aZKsVtdsg"
      },
      "execution_count": 19,
      "outputs": []
    },
    {
      "cell_type": "markdown",
      "source": [
        "Teste Busca binária no pior caso"
      ],
      "metadata": {
        "id": "eIkxiyp7thKd"
      }
    },
    {
      "cell_type": "code",
      "source": [
        "#carregar valores\n",
        "tempo_piorcaso = []\n",
        "num_comp_piorcaso = []\n",
        "tempo_casoaleat = []\n",
        "num_comp_casos_aleat = []\n",
        "for i in range(1,11,1):\n",
        "      strArq = \"arq\"+str(i)+\"_sort.txt\"\n",
        "      #print(strArq)\n",
        "      array = np.loadtxt(strArq)\n",
        "      size = len(array)\n",
        "      #print(\"Array = \",array)\n",
        "      #print(\"tamanho\",size)\n",
        "      chave = size+1\n",
        "      #busca no pior caso, chave não está no array\n",
        "      #print(\"chave = \", chave)\n",
        "      tempo_piorcaso.append(round(timeit.timeit(lambda: buscaBin(array,chave), number=1),5))\n",
        "      #print(\"Número de Comparações no pior caso =\",num_comp)\n",
        "      num_comp_piorcaso.append(num_comp)\n",
        "      num_comp = 0\n",
        "      #print(tempo_piorcaso[i-1])\n",
        "      #busca em 100 casos aleatórios\n",
        "      \n",
        "      #print(\"tempo=\",t)\n",
        "print(\"tempo pior caso =\\n\", tempo_piorcaso)\n",
        "print(\"Número de Comparações no pior caso =\",num_comp_piorcaso)"
      ],
      "metadata": {
        "colab": {
          "base_uri": "https://localhost:8080/",
          "height": 235
        },
        "id": "kLk5gpKJtjUx",
        "outputId": "96b00f85-f6b5-4b3a-c46b-b3f47d13c3aa"
      },
      "execution_count": 1,
      "outputs": [
        {
          "output_type": "error",
          "ename": "NameError",
          "evalue": "ignored",
          "traceback": [
            "\u001b[0;31m---------------------------------------------------------------------------\u001b[0m",
            "\u001b[0;31mNameError\u001b[0m                                 Traceback (most recent call last)",
            "\u001b[0;32m<ipython-input-1-5f13d0c240d0>\u001b[0m in \u001b[0;36m<cell line: 6>\u001b[0;34m()\u001b[0m\n\u001b[1;32m      7\u001b[0m       \u001b[0mstrArq\u001b[0m \u001b[0;34m=\u001b[0m \u001b[0;34m\"arq\"\u001b[0m\u001b[0;34m+\u001b[0m\u001b[0mstr\u001b[0m\u001b[0;34m(\u001b[0m\u001b[0mi\u001b[0m\u001b[0;34m)\u001b[0m\u001b[0;34m+\u001b[0m\u001b[0;34m\"_sort.txt\"\u001b[0m\u001b[0;34m\u001b[0m\u001b[0;34m\u001b[0m\u001b[0m\n\u001b[1;32m      8\u001b[0m       \u001b[0;31m#print(strArq)\u001b[0m\u001b[0;34m\u001b[0m\u001b[0;34m\u001b[0m\u001b[0m\n\u001b[0;32m----> 9\u001b[0;31m       \u001b[0marray\u001b[0m \u001b[0;34m=\u001b[0m \u001b[0mnp\u001b[0m\u001b[0;34m.\u001b[0m\u001b[0mloadtxt\u001b[0m\u001b[0;34m(\u001b[0m\u001b[0mstrArq\u001b[0m\u001b[0;34m)\u001b[0m\u001b[0;34m\u001b[0m\u001b[0;34m\u001b[0m\u001b[0m\n\u001b[0m\u001b[1;32m     10\u001b[0m       \u001b[0msize\u001b[0m \u001b[0;34m=\u001b[0m \u001b[0mlen\u001b[0m\u001b[0;34m(\u001b[0m\u001b[0marray\u001b[0m\u001b[0;34m)\u001b[0m\u001b[0;34m\u001b[0m\u001b[0;34m\u001b[0m\u001b[0m\n\u001b[1;32m     11\u001b[0m       \u001b[0;31m#print(\"Array = \",array)\u001b[0m\u001b[0;34m\u001b[0m\u001b[0;34m\u001b[0m\u001b[0m\n",
            "\u001b[0;31mNameError\u001b[0m: name 'np' is not defined"
          ]
        }
      ]
    },
    {
      "cell_type": "markdown",
      "source": [
        "Teste Busca binária em 100 casos aleatórios"
      ],
      "metadata": {
        "id": "8H9kggmltmvN"
      }
    },
    {
      "cell_type": "code",
      "source": [
        "tempo_casoaleat = []\n",
        "num_comp_casos_aleat = []\n",
        "desvios_tempo = []\n",
        "desvios_comp = []\n",
        "for i in range(1,11,1):\n",
        "      strArq = \"arq\"+str(i)+\"_sort.txt\"\n",
        "      #print(strArq)\n",
        "      array = np.loadtxt(strArq)\n",
        "      size = len(array)\n",
        "      #print(\"Array = \",array)\n",
        "      #print(\"tamanho\",size)\n",
        "      t = 0.0\n",
        "      tempo_total = 0.0\n",
        "      chave_aleat = genChavealet(len(array),100)\n",
        "      #print(\"chaves aleeatórias = \",chave_aleat)\n",
        "      total_num_comp = 0\n",
        "      for j in range(100):\n",
        "          t = timeit.timeit(lambda: buscaBin(array,chave_aleat[j]), number=1)\n",
        "          tempo_total +=t\n",
        "          Taux.append(t)\n",
        "          t = 0\n",
        "          total_num_comp += num_comp\n",
        "          nc.append(num_comp)\n",
        "          \n",
        "          num_comp = 0\n",
        "\n",
        "          \n",
        "      tempo_casoaleat.append(round((tempo_total/100),5))\n",
        "      num_comp_casos_aleat.append(int(total_num_comp/100))\n",
        "      desvios_tempo.append(round((statistics.pstdev(Taux)),5))\n",
        "      desvios_comp.append(int(statistics.pstdev(nc)))\n",
        "      total_num_comp = 0\n",
        "      tempo_total = 0.0\n",
        "print(\"tempos medios em 100 casos aleatórios=\\n \",tempo_casoaleat)\n",
        "print(\"número médio de comparações em casos aleatórios=\\n \",num_comp_casos_aleat)\n",
        "print(\"Desvio padrão Tempo\\n\",desvios_tempo)\n",
        "print(\"Desvio padrão Comparações\\n\",desvios_comp)"
      ],
      "metadata": {
        "colab": {
          "base_uri": "https://localhost:8080/"
        },
        "id": "llDwJUhitpKs",
        "outputId": "a3047ac4-674c-4054-c104-45595702b340"
      },
      "execution_count": 28,
      "outputs": [
        {
          "output_type": "stream",
          "name": "stdout",
          "text": [
            "tempos medios em 100 casos aleatórios=\n",
            "  [1e-05, 1e-05, 1e-05, 1e-05, 2e-05, 1e-05, 1e-05, 2e-05, 1e-05, 1e-05]\n",
            "número médio de comparações em casos aleatórios=\n",
            "  [16, 17, 17, 18, 18, 18, 18, 19, 19, 19]\n",
            "Desvio padrão Tempo\n",
            " [5e-05, 5e-05, 5e-05, 5e-05, 5e-05, 5e-05, 5e-05, 5e-05, 4e-05, 4e-05]\n",
            "Desvio padrão Comparações\n",
            " [123, 121, 120, 119, 117, 116, 115, 114, 113, 112]\n"
          ]
        }
      ]
    },
    {
      "cell_type": "markdown",
      "source": [],
      "metadata": {
        "id": "gOOtS5RWtmm0"
      }
    },
    {
      "cell_type": "markdown",
      "source": [
        "Lista Ligada"
      ],
      "metadata": {
        "id": "EwIoasuiVflN"
      }
    },
    {
      "cell_type": "code",
      "source": [
        "import timeit\n",
        "\n",
        "num_comp = 0\n",
        "\n",
        "from os import execl\n",
        "class No:\n",
        "  def __init__(self, dado=0, proximo_nodo=None):\n",
        "    self.dado = dado\n",
        "    self.proximo = proximo_nodo\n",
        "\n",
        "  def __repr__(self):\n",
        "    return '%s -> %s' % (self.dado, self.proximo)\n",
        "\n",
        "  def set_proximo(self, proximo):\n",
        "    self.proximo_nodo = proximo\n",
        "\n",
        "class Lista:\n",
        "  def __init__(self):\n",
        "    self.cabeca = None\n",
        "\n",
        "  def __repr__(self):\n",
        "    return \"[\" + str(self.cabeca) + \"]\"\n",
        "\n",
        "\n",
        "\n",
        "  def vazia(self):\n",
        "        return self.cabeca is None\n",
        "  def insere_depois(self, nodo_anterior, novo_dado):\n",
        "    assert nodo_anterior, \"Nodo anterior precisa existir na lista.\"\n",
        "    novo_nodo = No(novo_dado)\n",
        "    novo_nodo.proximo = nodo_anterior.proximo\n",
        "    nodo_anterior.proximo = novo_nodo\n",
        "\n",
        "  def insere_no_fim(self, dado):\n",
        "        novo_no = No(dado)\n",
        "\n",
        "        if self.cabeca is None:\n",
        "            self.cabeca = novo_no\n",
        "        else:\n",
        "            atual = self.cabeca\n",
        "            while atual.proximo is not None:\n",
        "                atual = atual.proximo\n",
        "            atual.proximo = novo_no\n",
        "\n",
        "  def insere_no_inicio(self, novo_dado):\n",
        "    novo_nodo = No(novo_dado)\n",
        "    novo_nodo.proximo = self.cabeca\n",
        "    self.cabeca = novo_nodo\n",
        "\n",
        "  def preencher(array):\n",
        "    #for i in array:\n",
        "    #  print(i,end=\" \")\n",
        "    print(array)\n",
        "\n",
        "  def busca(self, chave):\n",
        "    atual = self.cabeca\n",
        "    pos = 0\n",
        "    while atual is not None:\n",
        "      global num_comp\n",
        "      num_comp = num_comp + 1\n",
        "      if atual.dado == chave:\n",
        "          return pos\n",
        "      atual = atual.proximo\n",
        "      pos = pos+1\n",
        "    return -1\n",
        "\n",
        "  def tamanho(self):\n",
        "    size = 0\n",
        "    atual = self.cabeca\n",
        "    while atual is not None:\n",
        "        size += 1\n",
        "        atual = atual.proximo\n",
        "    return size\n",
        "  def primeiro(self):\n",
        "    return self.cabeca.dado\n",
        "  def remove(self, valor):\n",
        "    assert self.cabeca, \"Impossível remover valor de lista vazia.\"\n",
        "\n",
        "    # Nodo a ser removido é a cabeça da lista.\n",
        "    if self.cabeca.dado == valor:\n",
        "        self.cabeca = self.cabeca.proximo\n",
        "    else:\n",
        "        # Encontra a posição do elemento a ser removido.\n",
        "        anterior = None\n",
        "        corrente = self.cabeca\n",
        "        while corrente and corrente.dado != valor:\n",
        "            anterior = corrente\n",
        "            corrente = corrente.proximo\n",
        "        # O nodo corrente é o nodo a ser removido.\n",
        "        if corrente:\n",
        "            anterior.proximo = corrente.proximo\n",
        "        else:\n",
        "            # O nodo corrente é a cauda da lista.\n",
        "            anterior.proximo = None"
      ],
      "metadata": {
        "id": "Hvd0J3YFVhl2"
      },
      "execution_count": 29,
      "outputs": []
    },
    {
      "cell_type": "code",
      "source": [
        "#teste da lista ligada\n",
        "import math\n",
        "#carregar vetores\n",
        "#array1 = np.loadtxt(\"arq1.txt\")\n",
        "#print(array1)\n",
        "#print(len(array1))\n",
        "tempo_piorcaso = []\n",
        "num_comp_piorcaso = []\n",
        "\n",
        "for i in range(1,11,1):\n",
        "  #preencher a lista\n",
        "  lista = Lista()\n",
        "  strArq = \"arq\"+str(i)+\".txt\"\n",
        "  array = np.loadtxt(strArq)\n",
        "  chave = array[0]\n",
        "  #print(array)\n",
        "  \n",
        "  #preencher lista\n",
        "  for j in array:\n",
        "    #lista.insere_no_fim(j)\n",
        "    lista.insere_no_inicio(j)\n",
        "  #chave = lista.primeiro()\n",
        "  \n",
        "  #pos = lista.busca(chave)\n",
        "  #print(pos)\n",
        "  tempo_piorcaso.append(round(timeit.timeit(lambda: lista.busca(chave), number=1),4))\n",
        "  taux = 0\n",
        "  #print(\"Número de Comparações =\",num_comp)\n",
        "  num_comp_piorcaso.append(num_comp)\n",
        "  num_comp = 0\n",
        "  \n",
        "print(\"tempo pior caso =\\n\", tempo_piorcaso)\n",
        "print(\"Número de Comparações no pior caso =\\n\",num_comp_piorcaso)"
      ],
      "metadata": {
        "colab": {
          "base_uri": "https://localhost:8080/"
        },
        "id": "YwvxgLaeX-LI",
        "outputId": "361af63b-7b54-4e72-c2be-595d117f0a90"
      },
      "execution_count": 30,
      "outputs": [
        {
          "output_type": "stream",
          "name": "stdout",
          "text": [
            "tempo pior caso =\n",
            " [0.0203, 0.0402, 0.0628, 0.085, 0.2144, 0.1257, 0.1477, 0.1615, 0.3898, 0.2234]\n",
            "Número de Comparações no pior caso =\n",
            " [100000, 200000, 300000, 400000, 500000, 600000, 700000, 800000, 900000, 1000000]\n"
          ]
        }
      ]
    },
    {
      "cell_type": "markdown",
      "source": [
        "100 casos"
      ],
      "metadata": {
        "id": "tXTLR8KCyVdG"
      }
    },
    {
      "cell_type": "code",
      "source": [
        "import math\n",
        "import statistics\n",
        "tempo_casoaleat = []\n",
        "num_comp_casos_aleat = []\n",
        "desvios_tempo = []\n",
        "desvios_comp = []\n",
        "for i in range(1,11,1):\n",
        "      lista = Lista()\n",
        "      strArq = \"arq\"+str(i)+\".txt\"\n",
        "      array = np.loadtxt(strArq)\n",
        "      chave_aleat = genChavealet(len(array),100)\n",
        "      #print(array)\n",
        "\n",
        "      #preencher lista\n",
        "      for j in array:\n",
        "        #lista.insere_no_fim(j)\n",
        "        lista.insere_no_inicio(j)\n",
        "      #print(\"Array = \",array)\n",
        "      #print(\"tamanho\",len(array))\n",
        "      t = 0.0\n",
        "      \n",
        "      #print(\"chaves aleeatórias = \",chave_aleat)\n",
        "      tempo_total = 0.0\n",
        "      Taux = []\n",
        "      nc = []\n",
        "      \n",
        "      total_num_comp = 0.0\n",
        "      for j in range(100):\n",
        "          t = timeit.timeit(lambda: lista.busca(chave_aleat[j]), number=1)\n",
        "          tempo_total +=t\n",
        "          Taux.append(t)\n",
        "          t = 0\n",
        "          total_num_comp += num_comp\n",
        "          nc.append(num_comp)\n",
        "          num_comp = 0\n",
        "\n",
        "      desvios_tempo.append(round(statistics.pstdev(Taux),5))\n",
        "      desvios_comp.append(int(statistics.pstdev(nc)))\n",
        "      tempo_casoaleat.append(round((tempo_total/100),5))\n",
        "      num_comp_casos_aleat.append(int(total_num_comp/100))\n",
        "      total_num_comp = 0\n",
        "      \n",
        "      #print(\"tempo=\",t)\n",
        "\n",
        "print(\"tempos medios em 100 casos aleatórios=\\n \",tempo_casoaleat)\n",
        "print(\"número médio de comparações em casos aleatórios=\\n \",num_comp_casos_aleat)\n",
        "print(\"Desvio padrão Tempo\\n\",desvios_tempo)\n",
        "print(\"Desvio padrão Comparações\\n\",desvios_comp)"
      ],
      "metadata": {
        "colab": {
          "base_uri": "https://localhost:8080/"
        },
        "id": "0slmB51zyVBk",
        "outputId": "e501d8e0-f796-4571-b78a-718554644658"
      },
      "execution_count": 31,
      "outputs": [
        {
          "output_type": "stream",
          "name": "stdout",
          "text": [
            "tempos medios em 100 casos aleatórios=\n",
            "  [0.02187, 0.05143, 0.06109, 0.10004, 0.1187, 0.14005, 0.1778, 0.19258, 0.21183, 0.23888]\n",
            "número médio de comparações em casos aleatórios=\n",
            "  [78695, 157547, 217864, 298362, 375167, 437237, 578434, 585341, 651517, 755689]\n",
            "Desvio padrão Tempo\n",
            " [0.00893, 0.02772, 0.0276, 0.05453, 0.06596, 0.07829, 0.07219, 0.11979, 0.11667, 0.12926]\n",
            "Desvio padrão Comparações\n",
            " [30838, 63715, 97218, 125882, 159266, 191981, 182382, 287555, 306664, 316990]\n"
          ]
        }
      ]
    },
    {
      "cell_type": "markdown",
      "source": [
        "Árvore Binária de Busca"
      ],
      "metadata": {
        "id": "_ARsKCC2ViN-"
      }
    },
    {
      "cell_type": "code",
      "source": [
        "class No:\n",
        "\tdef __init__(self, key, dir, esq):\n",
        "\t\tself.dado = key\n",
        "\t\tself.dir = dir\n",
        "\t\tself.esq = esq\n",
        "\n",
        "class Arvore:\n",
        "  def __init__(self):\n",
        "    self.root = No(None, None, None)\n",
        "    self.root = None\n",
        "  def inserir(self, v):\n",
        "    novo = No(v, None, None)\n",
        "\t\t\n",
        "    if self.root == None:\n",
        "      \n",
        "      self.root = novo\t\n",
        "    else:\n",
        "      atual = self.root  \n",
        "      while True:\n",
        "        anterior = atual\n",
        "        if v <= atual.dado:  # ir para esquerda\n",
        "          atual = atual.esq\n",
        "          if atual == None:\n",
        "            anterior.esq = novo\n",
        "            return\n",
        "\t\t\t\n",
        "        else:  # ir para direita\n",
        "          atual = atual.dir\n",
        "          if atual == None:\n",
        "            anterior.dir = novo\n",
        "            return\n",
        "\t\t\n",
        "  def bfs(self, node,n):\n",
        "    if not node:\n",
        "      return\n",
        "    queue = []\n",
        "    queue.append(node)\n",
        "    contador = 0\n",
        "    while queue:\n",
        "      node = queue.pop(0)\n",
        "      contador = contador + 1\n",
        "      if(contador != n):\n",
        "        print(node.dado,end=\" \")\n",
        "      else:\n",
        "        print(node.dado,end=\"\")\n",
        "        \n",
        "      if node.esq:\n",
        "        queue.append(node.esq)\n",
        "      if node.dir:\n",
        "        queue.append(node.dir)\n",
        "    \n",
        "  def inOrder(self, atual):\n",
        "    if atual != None:\n",
        "      self.inOrder(atual.esq)\n",
        "      print(\"\",atual.dado,end=\"\")\n",
        "      self.inOrder(atual.dir)\n",
        "\n",
        "  def preOrder(self, atual):\n",
        "    if atual != None:\n",
        "      print(\"\",atual.dado,end=\"\")\n",
        "      self.preOrder(atual.esq)\n",
        "      self.preOrder(atual.dir)\n",
        "\n",
        "  def posOrder(self, atual):\n",
        "    if atual != None:\n",
        "      self.posOrder(atual.esq)\n",
        "      self.posOrder(atual.dir)\n",
        "      print(\"\",atual.dado,end=\"\")\n",
        "\n",
        "  def altura_max(self, atual):\n",
        "    if atual == None:\n",
        "          return 0\n",
        "    return self.altura_arv(self.root)\n",
        "\n",
        "  def maior(self,esq,dir):\n",
        "    if(esq>dir):\n",
        "      return esq\n",
        "    else:\n",
        "      return dir\n",
        "\n",
        "  def altura_arv(self,node):\n",
        "    if node is None:\n",
        "        return 0\n",
        "    altura_esq = self.altura_arv(node.esq)\n",
        "    altura_dir = self.altura_arv(node.dir)\n",
        "    return self.maior(altura_esq, altura_dir) + 1\n",
        "\n",
        "  def folhas(self, atual):\n",
        "      if atual == None:\n",
        "          return 0\n",
        "      if atual.esq == None and atual.dir == None:\n",
        "          return 1\n",
        "      return self.folhas(atual.esq) + self.folhas(atual.dir)\n",
        "\n",
        "  \n",
        "  def contarNos(self, atual):\n",
        "    if atual == None:\n",
        "          return 0\n",
        "    else:\n",
        "          return  1 + self.contarNos(atual.esq) + self.contarNos(atual.dir)\n",
        "\n",
        "  def minn(self):\n",
        "      atual = self.root\n",
        "      anterior = None\n",
        "      while atual != None:\n",
        "          anterior = atual\n",
        "          atual = atual.esq\n",
        "      return anterior\n",
        "\n",
        "  def busca(self, chave):\n",
        "      global num_comp\n",
        "      num_comp = 0\n",
        "      return self.busca_recursiva(self.root, chave)\n",
        "\n",
        "  def busca_recursiva(self, node, chave):\n",
        "      global num_comp\n",
        "      num_comp = num_comp + 1\n",
        "      if node is None or node.dado == chave:\n",
        "          return node\n",
        "      if chave < node.dado:\n",
        "          return self.busca_recursiva(node.esq, chave)\n",
        "      else:\n",
        "          return self.busca_recursiva(node.dir, chave)\n",
        "  def maxx(self):\n",
        "      atual = self.root\n",
        "      anterior = None\n",
        "      while atual != None:\n",
        "          anterior = atual\n",
        "          atual = atual.dir\n",
        "      return anterior"
      ],
      "metadata": {
        "id": "m4yTqSn3Vklu"
      },
      "execution_count": 32,
      "outputs": []
    },
    {
      "cell_type": "markdown",
      "source": [
        "Teste da árvore binária no pior caso"
      ],
      "metadata": {
        "id": "ahG30xlfvy5z"
      }
    },
    {
      "cell_type": "code",
      "source": [
        "#teste da árvore binária\n",
        "tempo_piorcaso = []\n",
        "num_comp_piorcaso = []\n",
        "num_comp = 0\n",
        "\n",
        "for i in range(1,11,1):\n",
        "      arv = Arvore()\n",
        "      strArq = \"arq\"+str(i)+\".txt\"\n",
        "      array = np.loadtxt(strArq)\n",
        "      #print(len(array))\n",
        "      #preencher arvore\n",
        "      chave = len(array)+1\n",
        "      #print(chave)\n",
        "      for j in array:\n",
        "        arv.inserir(j)\n",
        "      print(arv.altura_max(arv.root))\n",
        "      #arv.preOrder(arv.root)\n",
        "      tempo_piorcaso.append(\"{:.6f}\".format((timeit.timeit(lambda: arv.busca(chave), number=1))))\n",
        "      #arv.busca(chave)\n",
        "      #arv.inOrder(arv.root)\n",
        "      #arv.busca(chave)\n",
        "      taux = 0\n",
        "      #print(\"Número de Comparações =\",num_comp)\n",
        "      num_comp_piorcaso.append(num_comp)\n",
        "      num_comp = 0\n",
        "\n",
        "print(\"tempo pior caso =\\n\", tempo_piorcaso)\n",
        "print(\"Número de Comparações no pior caso =\\n\",num_comp_piorcaso)"
      ],
      "metadata": {
        "colab": {
          "base_uri": "https://localhost:8080/"
        },
        "id": "dwgTUpNHYB33",
        "outputId": "398e7812-e6f3-46c0-bb1b-2da05d47b4e2"
      },
      "execution_count": 33,
      "outputs": [
        {
          "output_type": "stream",
          "name": "stdout",
          "text": [
            "40\n",
            "42\n",
            "41\n",
            "44\n",
            "48\n",
            "55\n",
            "51\n",
            "48\n",
            "50\n",
            "50\n",
            "tempo pior caso =\n",
            " ['0.000036', '0.000022', '0.000037', '0.000053', '0.000061', '0.000034', '0.000036', '0.000045', '0.000029', '0.000038']\n",
            "Número de Comparações no pior caso =\n",
            " [20, 7, 21, 20, 19, 9, 17, 24, 13, 10]\n"
          ]
        }
      ]
    }
  ]
}