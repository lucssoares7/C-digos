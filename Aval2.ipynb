{
  "nbformat": 4,
  "nbformat_minor": 0,
  "metadata": {
    "colab": {
      "provenance": [],
      "authorship_tag": "ABX9TyOU8PFcKcd/JM287N0tWqdG",
      "include_colab_link": true
    },
    "kernelspec": {
      "name": "python3",
      "display_name": "Python 3"
    },
    "language_info": {
      "name": "python"
    }
  },
  "cells": [
    {
      "cell_type": "markdown",
      "metadata": {
        "id": "view-in-github",
        "colab_type": "text"
      },
      "source": [
        "<a href=\"https://colab.research.google.com/github/lucssoares7/C-digos/blob/main/Aval2.ipynb\" target=\"_parent\"><img src=\"https://colab.research.google.com/assets/colab-badge.svg\" alt=\"Open In Colab\"/></a>"
      ]
    },
    {
      "cell_type": "code",
      "execution_count": 1,
      "metadata": {
        "id": "IhlqccWOUpFk"
      },
      "outputs": [],
      "source": [
        "#gerador de números aleatórios\n",
        "import random\n",
        "import numpy as np\n",
        "\n",
        "def gen(array, max, size):\n",
        "    num = random.sample(range(-max,max),size)\n",
        "    for i in range(size):\n",
        "        array[i] = num[i]\n",
        "\n",
        "    return array\n",
        "    \n",
        "tax = 1\n",
        "\n",
        "#def gerador:\n",
        "\n",
        "for tax in range(1,11,1):\n",
        "    #tax = tax + 1\n",
        "    size = 100000    \n",
        "    strArq = \"arq\"+str(tax)+\".txt\"\n",
        "    #arq1 = open(strArq,\"w+\")\n",
        "    size = size*(tax)\n",
        "    vetor = [0]*size\n",
        "    Array = np.array(gen(vetor,size,size))\n",
        "    np.savetxt(strArq, Array)\n",
        "    #arq1.close()"
      ]
    },
    {
      "cell_type": "markdown",
      "source": [
        "Ordenação dos casos de teste"
      ],
      "metadata": {
        "id": "qFsOoLczsVX7"
      }
    },
    {
      "cell_type": "code",
      "source": [
        "from typing import List\n",
        "import numpy\n",
        "import timeit\n",
        "tempo_ord = []\n",
        "for i in range(1,11,1):\n",
        "      strArq = \"arq\"+str(i)+\".txt\"\n",
        "      \n",
        "      #print(strArq)\n",
        "      array = np.loadtxt(strArq)\n",
        "      #print(array)\n",
        "      #print(len(array))\n",
        "      #print(\"Tempo (\", i, \") = \",round((timeit.timeit(lambda: np.sort(array), number=1)),5))\n",
        "      tempo_ord.append(round((timeit.timeit(lambda: np.sort(array), number=1)),5))\n",
        "      array_sort = np.sort(array)\n",
        "      np.savetxt(\"arq\"+str(i)+\"_sort.txt\", array_sort)\n"
      ],
      "metadata": {
        "id": "OOfzLhAKU6UE"
      },
      "execution_count": 2,
      "outputs": []
    },
    {
      "cell_type": "markdown",
      "source": [
        "Gerador de Relatórios Tempo de Ordenação"
      ],
      "metadata": {
        "id": "XeXIrVBhfJcg"
      }
    },
    {
      "cell_type": "code",
      "source": [
        "import pandas as pd\n",
        "import itertools\n",
        "Casos = ['Caso 1','Caso 2','Caso 3','Caso 4','Caso 5','Caso 6','Caso 7','Caso 8','Caso 9','Caso 10']\n",
        "tabela = [Casos, tempo_ord]\n",
        "lista_intercalada = list(itertools.chain.from_iterable(zip(*tabela)))\n",
        "\n",
        "num_linhas = len(lista_intercalada) // 6  # Número de linhas (assumindo que são 6 colunas)\n",
        "num_colunas = 2\n",
        "matriz = [lista_intercalada[i:i+num_colunas] for i in range(0, len(lista_intercalada), num_colunas)]\n",
        "\n",
        "\n",
        "#print(lista_intercalada)\n",
        "#df = pd.DataFrame(lista_intercalada, columns=['Casos de Teste', 'Tempo','Desvio Padrão','Comparações', 'Desvio','Altura'])\n",
        "df = pd.DataFrame(matriz, columns=['Casos de Teste', 'Tempo de Ordenação'])\n",
        "#df_transposto = df.transpose()\n",
        "#df = pd.DataFrame(df_transposto)\n",
        "print(df)\n",
        "\n",
        "tabela_latex = df.to_latex(index=False)\n",
        "\n",
        "# Imprima a string LaTeX resultante\n",
        "print(tabela_latex)\n",
        "#print(Casos)"
      ],
      "metadata": {
        "colab": {
          "base_uri": "https://localhost:8080/"
        },
        "id": "AMjpRjFufJAz",
        "outputId": "3b970a08-6db7-4661-cda9-12e14205b7f6"
      },
      "execution_count": 3,
      "outputs": [
        {
          "output_type": "stream",
          "name": "stdout",
          "text": [
            "  Casos de Teste  Tempo de Ordenação\n",
            "0         Caso 1             0.00935\n",
            "1         Caso 2             0.01832\n",
            "2         Caso 3             0.02791\n",
            "3         Caso 4             0.04620\n",
            "4         Caso 5             0.05073\n",
            "5         Caso 6             0.06099\n",
            "6         Caso 7             0.07286\n",
            "7         Caso 8             0.08246\n",
            "8         Caso 9             0.11209\n",
            "9        Caso 10             0.10715\n",
            "\\begin{tabular}{lr}\n",
            "\\toprule\n",
            "Casos de Teste &  Tempo de Ordenação \\\\\n",
            "\\midrule\n",
            "        Caso 1 &             0.00935 \\\\\n",
            "        Caso 2 &             0.01832 \\\\\n",
            "        Caso 3 &             0.02791 \\\\\n",
            "        Caso 4 &             0.04620 \\\\\n",
            "        Caso 5 &             0.05073 \\\\\n",
            "        Caso 6 &             0.06099 \\\\\n",
            "        Caso 7 &             0.07286 \\\\\n",
            "        Caso 8 &             0.08246 \\\\\n",
            "        Caso 9 &             0.11209 \\\\\n",
            "       Caso 10 &             0.10715 \\\\\n",
            "\\bottomrule\n",
            "\\end{tabular}\n",
            "\n"
          ]
        },
        {
          "output_type": "stream",
          "name": "stderr",
          "text": [
            "<ipython-input-3-91fa39cde37b>:19: FutureWarning: In future versions `DataFrame.to_latex` is expected to utilise the base implementation of `Styler.to_latex` for formatting and rendering. The arguments signature may therefore change. It is recommended instead to use `DataFrame.style.to_latex` which also contains additional functionality.\n",
            "  tabela_latex = df.to_latex(index=False)\n"
          ]
        }
      ]
    },
    {
      "cell_type": "code",
      "source": [
        "def genChavealet(max, size):\n",
        "    vetor = [0]*size\n",
        "    return np.array(gen(vetor,max,size))"
      ],
      "metadata": {
        "id": "xniHHh_EU9In"
      },
      "execution_count": 4,
      "outputs": []
    },
    {
      "cell_type": "markdown",
      "source": [
        "Gerador de Relatório Pior Caso"
      ],
      "metadata": {
        "id": "HTQiFBa7lYf9"
      }
    },
    {
      "cell_type": "code",
      "source": [
        "import pandas as pd\n",
        "import itertools\n",
        "def geradorPiorCaso(tempo_piorcaso,num_comp_piorcaso):\n",
        "  Casos = ['Caso 1','Caso 2','Caso 3','Caso 4','Caso 5','Caso 6','Caso 7','Caso 8','Caso 9','Caso 10']\n",
        "  tabela = [Casos, tempo_piorcaso,num_comp_piorcaso]\n",
        "  lista_intercalada = list(itertools.chain.from_iterable(zip(*tabela)))\n",
        "\n",
        "  num_linhas = len(lista_intercalada) // 6  # Número de linhas (assumindo que são 6 colunas)\n",
        "  num_colunas = 3\n",
        "  matriz = [lista_intercalada[i:i+num_colunas] for i in range(0, len(lista_intercalada), num_colunas)]\n",
        "\n",
        "\n",
        "  #print(lista_intercalada)\n",
        "  #df = pd.DataFrame(lista_intercalada, columns=['Casos de Teste', 'Tempo','Desvio Padrão','Comparações', 'Desvio','Altura'])\n",
        "  df = pd.DataFrame(matriz, columns=['Casos de Teste', 'Tempo no Pior Caso', 'Numero de Comparações'])\n",
        "  #df_transposto = df.transpose()\n",
        "  #df = pd.DataFrame(df_transposto)\n",
        "  print(df)\n",
        "\n",
        "  tabela_latex = df.to_latex(index=False)\n",
        "\n",
        "  # Imprima a string LaTeX resultante\n",
        "  print(tabela_latex)"
      ],
      "metadata": {
        "id": "-Q5ILHZTlbGh"
      },
      "execution_count": 5,
      "outputs": []
    },
    {
      "cell_type": "markdown",
      "source": [
        "Gerador de Relatório em Casos aleatórios"
      ],
      "metadata": {
        "id": "8fkQzRTLlbbJ"
      }
    },
    {
      "cell_type": "code",
      "source": [
        "import pandas as pd\n",
        "import itertools\n",
        "def geradorCasosAleatorios(tempo_casoaleat,desvios_tempo,num_comp_casos_aleat,desvios_comp):\n",
        "  Casos = ['Caso 1','Caso 2','Caso 3','Caso 4','Caso 5','Caso 6','Caso 7','Caso 8','Caso 9','Caso 10']\n",
        "  tabela = [Casos, tempo_casoaleat,desvios_tempo,num_comp_casos_aleat,desvios_comp]\n",
        "  lista_intercalada = list(itertools.chain.from_iterable(zip(*tabela)))\n",
        "\n",
        "  num_linhas = len(lista_intercalada) // 6  # Número de linhas (assumindo que são 6 colunas)\n",
        "  num_colunas = 5\n",
        "  matriz = [lista_intercalada[i:i+num_colunas] for i in range(0, len(lista_intercalada), num_colunas)]\n",
        "\n",
        "\n",
        "  #print(lista_intercalada)\n",
        "  #df = pd.DataFrame(lista_intercalada, columns=['Casos de Teste', 'Tempo','Desvio Padrão','Comparações', 'Desvio','Altura'])\n",
        "  df = pd.DataFrame(matriz, columns=['Casos de Teste', 'Tempo Médio', 'Desvio Padrão do Tempo', 'Numero de Comparações','Desvio Padrão Comparações'])\n",
        "  #df_transposto = df.transpose()\n",
        "  #df = pd.DataFrame(df_transposto)\n",
        "  print(df)\n",
        "\n",
        "  tabela_latex = df.to_latex(index=False)\n",
        "\n",
        "  # Imprima a string LaTeX resultante\n",
        "  print(tabela_latex)"
      ],
      "metadata": {
        "id": "0mVD6EKlle5t"
      },
      "execution_count": 6,
      "outputs": []
    },
    {
      "cell_type": "markdown",
      "source": [
        "Busca sequencial padrão"
      ],
      "metadata": {
        "id": "ERnEWuJ8seIC"
      }
    },
    {
      "cell_type": "code",
      "source": [
        "import timeit\n",
        "\n",
        "num_comp = 0\n",
        "\n",
        "def buscaSeq(vet, chave):\n",
        "    pos = 0\n",
        "    for pos in range(0, len(vet),1):\n",
        "      #time.sleep(1)\n",
        "      global num_comp\n",
        "      num_comp = num_comp + 1\n",
        "      if(vet[pos]==chave):\n",
        "        return pos\n",
        "    \n",
        "    return -1 \n",
        "\n",
        "      "
      ],
      "metadata": {
        "id": "yaFCsUZksdxd"
      },
      "execution_count": 7,
      "outputs": []
    },
    {
      "cell_type": "markdown",
      "source": [
        "Teste da busca sequencial padrão no pior caso"
      ],
      "metadata": {
        "id": "atlF7wXNs0XE"
      }
    },
    {
      "cell_type": "code",
      "source": [
        "import math\n",
        "#carregar vetores\n",
        "#array1 = np.loadtxt(\"arq1.txt\")\n",
        "#print(array1)\n",
        "#print(len(array1))\n",
        "tempo_piorcaso = []\n",
        "num_comp_piorcaso = []\n",
        "\n",
        "for i in range(1,11,1):\n",
        "      strArq = \"arq\"+str(i)+\".txt\"\n",
        "      #print(strArq)\n",
        "      array = np.loadtxt(strArq)\n",
        "      #print(\"Array = \",array)\n",
        "      #print(\"tamanho\",len(array))\n",
        "      chave = array[-1]\n",
        "      #print(\"chave = \", chave)\n",
        "      #taux = \n",
        "      #print()\n",
        "      tempo_piorcaso.append(round(timeit.timeit(lambda: buscaSeq(array,chave), number=1),4))\n",
        "      taux = 0\n",
        "      #print(\"Número de Comparações =\",num_comp)\n",
        "      num_comp_piorcaso.append(num_comp)\n",
        "      num_comp = 0\n",
        "\n",
        "print(\"tempo pior caso =\\n\", tempo_piorcaso)\n",
        "print(\"Número de Comparações no pior caso =\\n\",num_comp_piorcaso)\n",
        "geradorPiorCaso(tempo_piorcaso,num_comp_piorcaso)"
      ],
      "metadata": {
        "colab": {
          "base_uri": "https://localhost:8080/"
        },
        "id": "wr7wcKyysvp4",
        "outputId": "6c89fc81-e160-4a82-f685-46789ea609c4"
      },
      "execution_count": 8,
      "outputs": [
        {
          "output_type": "stream",
          "name": "stdout",
          "text": [
            "tempo pior caso =\n",
            " [0.0181, 0.0426, 0.0565, 0.0933, 0.0957, 0.1142, 0.1374, 0.3375, 0.1641, 0.1785]\n",
            "Número de Comparações no pior caso =\n",
            " [100000, 200000, 300000, 400000, 500000, 600000, 700000, 800000, 900000, 1000000]\n",
            "  Casos de Teste  Tempo no Pior Caso  Numero de Comparações\n",
            "0         Caso 1              0.0181                 100000\n",
            "1         Caso 2              0.0426                 200000\n",
            "2         Caso 3              0.0565                 300000\n",
            "3         Caso 4              0.0933                 400000\n",
            "4         Caso 5              0.0957                 500000\n",
            "5         Caso 6              0.1142                 600000\n",
            "6         Caso 7              0.1374                 700000\n",
            "7         Caso 8              0.3375                 800000\n",
            "8         Caso 9              0.1641                 900000\n",
            "9        Caso 10              0.1785                1000000\n",
            "\\begin{tabular}{lrr}\n",
            "\\toprule\n",
            "Casos de Teste &  Tempo no Pior Caso &  Numero de Comparações \\\\\n",
            "\\midrule\n",
            "        Caso 1 &              0.0181 &                 100000 \\\\\n",
            "        Caso 2 &              0.0426 &                 200000 \\\\\n",
            "        Caso 3 &              0.0565 &                 300000 \\\\\n",
            "        Caso 4 &              0.0933 &                 400000 \\\\\n",
            "        Caso 5 &              0.0957 &                 500000 \\\\\n",
            "        Caso 6 &              0.1142 &                 600000 \\\\\n",
            "        Caso 7 &              0.1374 &                 700000 \\\\\n",
            "        Caso 8 &              0.3375 &                 800000 \\\\\n",
            "        Caso 9 &              0.1641 &                 900000 \\\\\n",
            "       Caso 10 &              0.1785 &                1000000 \\\\\n",
            "\\bottomrule\n",
            "\\end{tabular}\n",
            "\n"
          ]
        },
        {
          "output_type": "stream",
          "name": "stderr",
          "text": [
            "<ipython-input-5-1f63115eb25f>:20: FutureWarning: In future versions `DataFrame.to_latex` is expected to utilise the base implementation of `Styler.to_latex` for formatting and rendering. The arguments signature may therefore change. It is recommended instead to use `DataFrame.style.to_latex` which also contains additional functionality.\n",
            "  tabela_latex = df.to_latex(index=False)\n"
          ]
        }
      ]
    },
    {
      "cell_type": "markdown",
      "source": [
        "Teste em 100 casos aleatórios"
      ],
      "metadata": {
        "id": "rEXzoV_Ds8kk"
      }
    },
    {
      "cell_type": "code",
      "source": [
        "import math\n",
        "import statistics\n",
        "tempo_casoaleat = []\n",
        "num_comp_casos_aleat = []\n",
        "desvios_tempo = []\n",
        "desvios_comp = []\n",
        "for i in range(1,11,1):\n",
        "      strArq = \"arq\"+str(i)+\".txt\"\n",
        "      #print(strArq)\n",
        "      array = np.loadtxt(strArq)\n",
        "      #print(\"Array = \",array)\n",
        "      #print(\"tamanho\",len(array))\n",
        "      t = 0.0\n",
        "      chave_aleat = genChavealet(len(array),100)\n",
        "      #print(\"chaves aleeatórias = \",chave_aleat)\n",
        "      tempo_total = 0.0\n",
        "      Taux = []\n",
        "      nc = []\n",
        "      \n",
        "      total_num_comp = 0.0\n",
        "      for j in range(100):\n",
        "          t = round(timeit.timeit(lambda: buscaSeq(array,chave_aleat[j]), number=1),4)\n",
        "          tempo_total +=t\n",
        "          Taux.append(t)\n",
        "          t = 0\n",
        "          total_num_comp += num_comp\n",
        "          nc.append(num_comp)\n",
        "          num_comp = 0\n",
        "\n",
        "      desvios_tempo.append(round(statistics.pstdev(Taux),5))\n",
        "      desvios_comp.append(round(int(statistics.pstdev(nc)),5))\n",
        "      tempo_casoaleat.append(round((tempo_total/100),2))\n",
        "      num_comp_casos_aleat.append(int(total_num_comp/100))\n",
        "      total_num_comp = 0\n",
        "      \n",
        "      #print(\"tempo=\",t)\n",
        "\n",
        "print(\"tempos medios em 100 casos aleatórios=\\n \",tempo_casoaleat)\n",
        "print(\"número médio de comparações em casos aleatórios=\\n \",num_comp_casos_aleat)\n",
        "print(\"Desvio padrão Tempo\\n\",desvios_tempo)\n",
        "print(\"Desvio padrão Comparações\\n\",desvios_comp)\n",
        "geradorCasosAleatorios(tempo_casoaleat,desvios_tempo,num_comp_casos_aleat,desvios_comp)"
      ],
      "metadata": {
        "colab": {
          "base_uri": "https://localhost:8080/"
        },
        "id": "AsCoHHPSs_fv",
        "outputId": "37907051-6969-414f-ea2e-4649e11c2955"
      },
      "execution_count": 9,
      "outputs": [
        {
          "output_type": "stream",
          "name": "stdout",
          "text": [
            "tempos medios em 100 casos aleatórios=\n",
            "  [0.02, 0.04, 0.07, 0.09, 0.12, 0.13, 0.14, 0.17, 0.19, 0.24]\n",
            "número médio de comparações em casos aleatórios=\n",
            "  [73950, 152382, 231190, 314938, 399228, 444493, 499672, 600597, 642394, 783601]\n",
            "Desvio padrão Tempo\n",
            " [0.00817, 0.01533, 0.04372, 0.05392, 0.05923, 0.0742, 0.08908, 0.08599, 0.13588, 0.14604]\n",
            "Desvio padrão Comparações\n",
            " [31236, 61050, 95076, 121511, 138845, 195278, 235345, 252564, 301049, 291512]\n",
            "  Casos de Teste  Tempo Médio  Desvio Padrão do Tempo  Numero de Comparações  \\\n",
            "0         Caso 1         0.02                 0.00817                  73950   \n",
            "1         Caso 2         0.04                 0.01533                 152382   \n",
            "2         Caso 3         0.07                 0.04372                 231190   \n",
            "3         Caso 4         0.09                 0.05392                 314938   \n",
            "4         Caso 5         0.12                 0.05923                 399228   \n",
            "5         Caso 6         0.13                 0.07420                 444493   \n",
            "6         Caso 7         0.14                 0.08908                 499672   \n",
            "7         Caso 8         0.17                 0.08599                 600597   \n",
            "8         Caso 9         0.19                 0.13588                 642394   \n",
            "9        Caso 10         0.24                 0.14604                 783601   \n",
            "\n",
            "   Desvio Padrão Comparações  \n",
            "0                      31236  \n",
            "1                      61050  \n",
            "2                      95076  \n",
            "3                     121511  \n",
            "4                     138845  \n",
            "5                     195278  \n",
            "6                     235345  \n",
            "7                     252564  \n",
            "8                     301049  \n",
            "9                     291512  \n",
            "\\begin{tabular}{lrrrr}\n",
            "\\toprule\n",
            "Casos de Teste &  Tempo Médio &  Desvio Padrão do Tempo &  Numero de Comparações &  Desvio Padrão Comparações \\\\\n",
            "\\midrule\n",
            "        Caso 1 &         0.02 &                 0.00817 &                  73950 &                      31236 \\\\\n",
            "        Caso 2 &         0.04 &                 0.01533 &                 152382 &                      61050 \\\\\n",
            "        Caso 3 &         0.07 &                 0.04372 &                 231190 &                      95076 \\\\\n",
            "        Caso 4 &         0.09 &                 0.05392 &                 314938 &                     121511 \\\\\n",
            "        Caso 5 &         0.12 &                 0.05923 &                 399228 &                     138845 \\\\\n",
            "        Caso 6 &         0.13 &                 0.07420 &                 444493 &                     195278 \\\\\n",
            "        Caso 7 &         0.14 &                 0.08908 &                 499672 &                     235345 \\\\\n",
            "        Caso 8 &         0.17 &                 0.08599 &                 600597 &                     252564 \\\\\n",
            "        Caso 9 &         0.19 &                 0.13588 &                 642394 &                     301049 \\\\\n",
            "       Caso 10 &         0.24 &                 0.14604 &                 783601 &                     291512 \\\\\n",
            "\\bottomrule\n",
            "\\end{tabular}\n",
            "\n"
          ]
        },
        {
          "output_type": "stream",
          "name": "stderr",
          "text": [
            "<ipython-input-6-6134870e3d08>:20: FutureWarning: In future versions `DataFrame.to_latex` is expected to utilise the base implementation of `Styler.to_latex` for formatting and rendering. The arguments signature may therefore change. It is recommended instead to use `DataFrame.style.to_latex` which also contains additional functionality.\n",
            "  tabela_latex = df.to_latex(index=False)\n"
          ]
        }
      ]
    },
    {
      "cell_type": "markdown",
      "source": [
        "Busca Jump"
      ],
      "metadata": {
        "id": "2bGF15svtC22"
      }
    },
    {
      "cell_type": "code",
      "source": [
        "import math\n",
        "import timeit\n",
        "import statistics\n",
        "num_comp = 0\n",
        "def buscaJump(vet,chave):\n",
        "    n = len(vet)\n",
        "    size = int(math.sqrt(n))\n",
        "    left, right = 0, 0\n",
        "    \n",
        "    while right < n and vet[right] < chave:\n",
        "        left = right\n",
        "        right += size\n",
        "  \n",
        "    for i in range(left, min(right, n)):\n",
        "        global num_comp\n",
        "        num_comp = num_comp+1\n",
        "        if vet[i] == chave:\n",
        "            return i\n",
        "    return -1\n",
        "\n"
      ],
      "metadata": {
        "id": "fbw2qzO4tGtX"
      },
      "execution_count": 10,
      "outputs": []
    },
    {
      "cell_type": "markdown",
      "source": [
        "Teste Busca Jump no pior caso"
      ],
      "metadata": {
        "id": "5U79XgoVtKbn"
      }
    },
    {
      "cell_type": "code",
      "source": [
        "import statistics\n",
        "#carregar vetores\n",
        "tempo_piorcaso = []\n",
        "num_comp_piorcaso = []\n",
        "\n",
        "for i in range(1,11,1):\n",
        "      strArq = \"arq\"+str(i)+\"_sort.txt\"\n",
        "      #print(strArq)\n",
        "      array = np.loadtxt(strArq)\n",
        "      #print(\"Array = \",array)\n",
        "      #print(\"tamanho\",len(array))\n",
        "      chave = len(array)+1\n",
        "      #pior caso, chave não está no array\n",
        "      #print(\"chave = \", chave)\n",
        "      tempo_piorcaso.append(round(timeit.timeit(lambda: buscaJump(array,chave), number=1),4))\n",
        "      t = 0.0\n",
        "      #print(\"Número de Comparações =\",num_comp)\n",
        "      num_comp_piorcaso.append(num_comp)\n",
        "      num_comp = 0\n",
        "      \n",
        "print(\"tempo pior caso =\\n\", tempo_piorcaso)\n",
        "print(\"Número de Comparações no pior caso =\",num_comp_piorcaso)\n",
        "geradorPiorCaso(tempo_piorcaso,num_comp_piorcaso)"
      ],
      "metadata": {
        "colab": {
          "base_uri": "https://localhost:8080/"
        },
        "id": "RTwAJDDctM1H",
        "outputId": "a4c4eb5a-c464-4eb0-c5c5-43d0bcd9021a"
      },
      "execution_count": 11,
      "outputs": [
        {
          "output_type": "stream",
          "name": "stdout",
          "text": [
            "tempo pior caso =\n",
            " [0.0002, 0.0003, 0.0004, 0.0008, 0.0004, 0.0005, 0.0004, 0.0007, 0.0006, 0.0016]\n",
            "Número de Comparações no pior caso = [144, 191, 244, 576, 151, 150, 268, 764, 348, 1000]\n",
            "  Casos de Teste  Tempo no Pior Caso  Numero de Comparações\n",
            "0         Caso 1              0.0002                    144\n",
            "1         Caso 2              0.0003                    191\n",
            "2         Caso 3              0.0004                    244\n",
            "3         Caso 4              0.0008                    576\n",
            "4         Caso 5              0.0004                    151\n",
            "5         Caso 6              0.0005                    150\n",
            "6         Caso 7              0.0004                    268\n",
            "7         Caso 8              0.0007                    764\n",
            "8         Caso 9              0.0006                    348\n",
            "9        Caso 10              0.0016                   1000\n",
            "\\begin{tabular}{lrr}\n",
            "\\toprule\n",
            "Casos de Teste &  Tempo no Pior Caso &  Numero de Comparações \\\\\n",
            "\\midrule\n",
            "        Caso 1 &              0.0002 &                    144 \\\\\n",
            "        Caso 2 &              0.0003 &                    191 \\\\\n",
            "        Caso 3 &              0.0004 &                    244 \\\\\n",
            "        Caso 4 &              0.0008 &                    576 \\\\\n",
            "        Caso 5 &              0.0004 &                    151 \\\\\n",
            "        Caso 6 &              0.0005 &                    150 \\\\\n",
            "        Caso 7 &              0.0004 &                    268 \\\\\n",
            "        Caso 8 &              0.0007 &                    764 \\\\\n",
            "        Caso 9 &              0.0006 &                    348 \\\\\n",
            "       Caso 10 &              0.0016 &                   1000 \\\\\n",
            "\\bottomrule\n",
            "\\end{tabular}\n",
            "\n"
          ]
        },
        {
          "output_type": "stream",
          "name": "stderr",
          "text": [
            "<ipython-input-5-1f63115eb25f>:20: FutureWarning: In future versions `DataFrame.to_latex` is expected to utilise the base implementation of `Styler.to_latex` for formatting and rendering. The arguments signature may therefore change. It is recommended instead to use `DataFrame.style.to_latex` which also contains additional functionality.\n",
            "  tabela_latex = df.to_latex(index=False)\n"
          ]
        }
      ]
    },
    {
      "cell_type": "markdown",
      "source": [
        "Teste Busca Jump nos 100 casos aleatórios"
      ],
      "metadata": {
        "id": "OXtBCIARtR0i"
      }
    },
    {
      "cell_type": "code",
      "source": [
        "tempo_casoaleat = []\n",
        "num_comp_casos_aleat = []\n",
        "desvios_tempo = []\n",
        "desvios_comp = []\n",
        "import statistics\n",
        "for i in range(1,11,1):\n",
        "      strArq = \"arq\"+str(i)+\"_sort.txt\"\n",
        "      #print(strArq)\n",
        "      array = np.loadtxt(strArq)\n",
        "      #print(\"Array = \",array)\n",
        "      #print(\"tamanho\",len(array))\n",
        "      Taux = []\n",
        "      nc = []\n",
        "      num_comp = 0\n",
        "      chave_aleat = genChavealet(len(array),100)\n",
        "      total_num_comp = 0\n",
        "      for j in range(100):\n",
        "          t = timeit.timeit(lambda: buscaJump(array,chave_aleat[j]), number=1)\n",
        "          tempo_total +=t\n",
        "          Taux.append(t)\n",
        "          t = 0\n",
        "          total_num_comp += num_comp\n",
        "          nc.append(num_comp)\n",
        "          num_comp = 0\n",
        "      tempo_casoaleat.append(round((tempo_total/100),5))\n",
        "      num_comp_casos_aleat.append(total_num_comp/100)\n",
        "      desvios_tempo.append(round(int(statistics.pstdev(Taux)),5))\n",
        "      desvios_comp.append(int(statistics.pstdev(nc)))\n",
        "      total_num_comp = 0\n",
        "      tempo_total = 0.0\n",
        "      #print(\"tempo=\",t)\n",
        "\n",
        "print(\"tempos medios em 100 casos aleatórios=\\n \",tempo_casoaleat)\n",
        "print(\"número médio de comparações em casos aleatórios=\\n \",num_comp_casos_aleat)\n",
        "print(\"Desvio padrão Tempo\\n\",desvios_tempo)\n",
        "print(\"Desvio padrão Comparações\\n\",desvios_comp)\n",
        "geradorCasosAleatorios(tempo_casoaleat,desvios_tempo,num_comp_casos_aleat,desvios_comp)"
      ],
      "metadata": {
        "colab": {
          "base_uri": "https://localhost:8080/"
        },
        "id": "LJ_flJzXtQ1g",
        "outputId": "f0121b7b-a89a-4239-a7a9-4dad5016651c"
      },
      "execution_count": 12,
      "outputs": [
        {
          "output_type": "stream",
          "name": "stdout",
          "text": [
            "tempos medios em 100 casos aleatórios=\n",
            "  [0.24424, 0.00033, 0.00039, 0.00018, 0.00021, 0.00024, 0.00027, 0.00028, 0.00029, 0.00033]\n",
            "número médio de comparações em casos aleatórios=\n",
            "  [234.82, 359.6, 415.68, 465.15, 532.77, 587.8, 655.35, 683.27, 716.64, 752.43]\n",
            "Desvio padrão Tempo\n",
            " [0, 0, 0, 0, 0, 0, 0, 0, 0, 0]\n",
            "Desvio padrão Comparações\n",
            " [98, 128, 166, 209, 228, 254, 259, 279, 307, 293]\n",
            "  Casos de Teste  Tempo Médio  Desvio Padrão do Tempo  Numero de Comparações  \\\n",
            "0         Caso 1      0.24424                       0                 234.82   \n",
            "1         Caso 2      0.00033                       0                 359.60   \n",
            "2         Caso 3      0.00039                       0                 415.68   \n",
            "3         Caso 4      0.00018                       0                 465.15   \n",
            "4         Caso 5      0.00021                       0                 532.77   \n",
            "5         Caso 6      0.00024                       0                 587.80   \n",
            "6         Caso 7      0.00027                       0                 655.35   \n",
            "7         Caso 8      0.00028                       0                 683.27   \n",
            "8         Caso 9      0.00029                       0                 716.64   \n",
            "9        Caso 10      0.00033                       0                 752.43   \n",
            "\n",
            "   Desvio Padrão Comparações  \n",
            "0                         98  \n",
            "1                        128  \n",
            "2                        166  \n",
            "3                        209  \n",
            "4                        228  \n",
            "5                        254  \n",
            "6                        259  \n",
            "7                        279  \n",
            "8                        307  \n",
            "9                        293  \n",
            "\\begin{tabular}{lrrrr}\n",
            "\\toprule\n",
            "Casos de Teste &  Tempo Médio &  Desvio Padrão do Tempo &  Numero de Comparações &  Desvio Padrão Comparações \\\\\n",
            "\\midrule\n",
            "        Caso 1 &      0.24424 &                       0 &                 234.82 &                         98 \\\\\n",
            "        Caso 2 &      0.00033 &                       0 &                 359.60 &                        128 \\\\\n",
            "        Caso 3 &      0.00039 &                       0 &                 415.68 &                        166 \\\\\n",
            "        Caso 4 &      0.00018 &                       0 &                 465.15 &                        209 \\\\\n",
            "        Caso 5 &      0.00021 &                       0 &                 532.77 &                        228 \\\\\n",
            "        Caso 6 &      0.00024 &                       0 &                 587.80 &                        254 \\\\\n",
            "        Caso 7 &      0.00027 &                       0 &                 655.35 &                        259 \\\\\n",
            "        Caso 8 &      0.00028 &                       0 &                 683.27 &                        279 \\\\\n",
            "        Caso 9 &      0.00029 &                       0 &                 716.64 &                        307 \\\\\n",
            "       Caso 10 &      0.00033 &                       0 &                 752.43 &                        293 \\\\\n",
            "\\bottomrule\n",
            "\\end{tabular}\n",
            "\n"
          ]
        },
        {
          "output_type": "stream",
          "name": "stderr",
          "text": [
            "<ipython-input-6-6134870e3d08>:20: FutureWarning: In future versions `DataFrame.to_latex` is expected to utilise the base implementation of `Styler.to_latex` for formatting and rendering. The arguments signature may therefore change. It is recommended instead to use `DataFrame.style.to_latex` which also contains additional functionality.\n",
            "  tabela_latex = df.to_latex(index=False)\n"
          ]
        }
      ]
    },
    {
      "cell_type": "markdown",
      "source": [
        "Busca binária"
      ],
      "metadata": {
        "id": "ilgP6GidtcuL"
      }
    },
    {
      "cell_type": "code",
      "source": [
        "import math\n",
        "import timeit\n",
        "\n",
        "num_comp = 0\n",
        "def buscaBin(vet,chave):\n",
        "  size = len(vet)\n",
        "  posIni=0\n",
        "  posFim=size-1\n",
        "  posMeio = 0\n",
        "  while(posIni <=posFim):\n",
        "    posMeio = int((posIni+posFim)/2)\n",
        "    global num_comp\n",
        "    num_comp = num_comp+1\n",
        "    if(vet[posMeio]==chave):\n",
        "      return posMeio\n",
        "    elif(vet[posMeio] > chave):\n",
        "      posFim = posMeio -1\n",
        "    else:\n",
        "      posIni = posMeio+1\n",
        "  return -1\n",
        "\n"
      ],
      "metadata": {
        "id": "mQ-aZKsVtdsg"
      },
      "execution_count": 13,
      "outputs": []
    },
    {
      "cell_type": "markdown",
      "source": [
        "Teste Busca binária no pior caso"
      ],
      "metadata": {
        "id": "eIkxiyp7thKd"
      }
    },
    {
      "cell_type": "code",
      "source": [
        "#carregar valores\n",
        "tempo_piorcaso = []\n",
        "num_comp_piorcaso = []\n",
        "tempo_casoaleat = []\n",
        "num_comp_casos_aleat = []\n",
        "for i in range(1,11,1):\n",
        "      strArq = \"arq\"+str(i)+\"_sort.txt\"\n",
        "      #print(strArq)\n",
        "      array = np.loadtxt(strArq)\n",
        "      size = len(array)\n",
        "      #print(\"Array = \",array)\n",
        "      #print(\"tamanho\",size)\n",
        "      chave = size+1\n",
        "      #busca no pior caso, chave não está no array\n",
        "      #print(\"chave = \", chave)\n",
        "      tempo_piorcaso.append(round(timeit.timeit(lambda: buscaBin(array,chave), number=1),5))\n",
        "      #print(\"Número de Comparações no pior caso =\",num_comp)\n",
        "      num_comp_piorcaso.append(num_comp)\n",
        "      num_comp = 0\n",
        "      #print(tempo_piorcaso[i-1])\n",
        "      #busca em 100 casos aleatórios\n",
        "      \n",
        "      #print(\"tempo=\",t)\n",
        "print(\"tempo pior caso =\\n\", tempo_piorcaso)\n",
        "print(\"Número de Comparações no pior caso =\",num_comp_piorcaso)\n",
        "geradorPiorCaso(tempo_piorcaso,num_comp_piorcaso)"
      ],
      "metadata": {
        "colab": {
          "base_uri": "https://localhost:8080/"
        },
        "id": "kLk5gpKJtjUx",
        "outputId": "61b3e4e9-71c1-473b-9e37-221faead4597"
      },
      "execution_count": 14,
      "outputs": [
        {
          "output_type": "stream",
          "name": "stdout",
          "text": [
            "tempo pior caso =\n",
            " [5e-05, 3e-05, 3e-05, 3e-05, 3e-05, 5e-05, 6e-05, 3e-05, 3e-05, 3e-05]\n",
            "Número de Comparações no pior caso = [17, 18, 19, 19, 19, 20, 20, 20, 20, 20]\n",
            "  Casos de Teste  Tempo no Pior Caso  Numero de Comparações\n",
            "0         Caso 1             0.00005                     17\n",
            "1         Caso 2             0.00003                     18\n",
            "2         Caso 3             0.00003                     19\n",
            "3         Caso 4             0.00003                     19\n",
            "4         Caso 5             0.00003                     19\n",
            "5         Caso 6             0.00005                     20\n",
            "6         Caso 7             0.00006                     20\n",
            "7         Caso 8             0.00003                     20\n",
            "8         Caso 9             0.00003                     20\n",
            "9        Caso 10             0.00003                     20\n",
            "\\begin{tabular}{lrr}\n",
            "\\toprule\n",
            "Casos de Teste &  Tempo no Pior Caso &  Numero de Comparações \\\\\n",
            "\\midrule\n",
            "        Caso 1 &             0.00005 &                     17 \\\\\n",
            "        Caso 2 &             0.00003 &                     18 \\\\\n",
            "        Caso 3 &             0.00003 &                     19 \\\\\n",
            "        Caso 4 &             0.00003 &                     19 \\\\\n",
            "        Caso 5 &             0.00003 &                     19 \\\\\n",
            "        Caso 6 &             0.00005 &                     20 \\\\\n",
            "        Caso 7 &             0.00006 &                     20 \\\\\n",
            "        Caso 8 &             0.00003 &                     20 \\\\\n",
            "        Caso 9 &             0.00003 &                     20 \\\\\n",
            "       Caso 10 &             0.00003 &                     20 \\\\\n",
            "\\bottomrule\n",
            "\\end{tabular}\n",
            "\n"
          ]
        },
        {
          "output_type": "stream",
          "name": "stderr",
          "text": [
            "<ipython-input-5-1f63115eb25f>:20: FutureWarning: In future versions `DataFrame.to_latex` is expected to utilise the base implementation of `Styler.to_latex` for formatting and rendering. The arguments signature may therefore change. It is recommended instead to use `DataFrame.style.to_latex` which also contains additional functionality.\n",
            "  tabela_latex = df.to_latex(index=False)\n"
          ]
        }
      ]
    },
    {
      "cell_type": "markdown",
      "source": [
        "Teste Busca binária em 100 casos aleatórios"
      ],
      "metadata": {
        "id": "8H9kggmltmvN"
      }
    },
    {
      "cell_type": "code",
      "source": [
        "import numpy as np\n",
        "import statistics\n",
        "tempo_casoaleat = []\n",
        "num_comp_casos_aleat = []\n",
        "desvios_tempo = []\n",
        "desvios_comp = []\n",
        "\n",
        "for i in range(1,11,1):\n",
        "      strArq = \"arq\"+str(i)+\"_sort.txt\"\n",
        "      #print(strArq)\n",
        "      array = np.loadtxt(strArq)\n",
        "      size = len(array)\n",
        "      #print(\"Array = \",array)\n",
        "      #print(\"tamanho\",size)\n",
        "      t = 0.0\n",
        "      tempo_total = 0.0\n",
        "      chave_aleat = genChavealet(len(array),100)\n",
        "      #print(\"chaves aleeatórias = \",chave_aleat)\n",
        "      total_num_comp = 0\n",
        "      Taux = []\n",
        "      nc = []\n",
        "      for j in range(100):\n",
        "          t = timeit.timeit(lambda: buscaBin(array,chave_aleat[j]), number=1)\n",
        "          tempo_total +=t\n",
        "          Taux.append(t)\n",
        "          t = 0\n",
        "          total_num_comp += num_comp\n",
        "          nc.append(num_comp)\n",
        "          \n",
        "          num_comp = 0\n",
        "\n",
        "          \n",
        "      tempo_casoaleat.append(round((tempo_total/100),5))\n",
        "      num_comp_casos_aleat.append(int(total_num_comp/100))\n",
        "      desvios_tempo.append(round((statistics.pstdev(Taux)),5))\n",
        "      desvios_comp.append(int(statistics.pstdev(nc)))\n",
        "      total_num_comp = 0\n",
        "      tempo_total = 0.0\n",
        "print(\"tempos medios em 100 casos aleatórios=\\n \",tempo_casoaleat)\n",
        "print(\"número médio de comparações em casos aleatórios=\\n \",num_comp_casos_aleat)\n",
        "print(\"Desvio padrão Tempo\\n\",desvios_tempo)\n",
        "print(\"Desvio padrão Comparações\\n\",desvios_comp)\n",
        "geradorCasosAleatorios(tempo_casoaleat,desvios_tempo,num_comp_casos_aleat,desvios_comp)"
      ],
      "metadata": {
        "colab": {
          "base_uri": "https://localhost:8080/"
        },
        "id": "llDwJUhitpKs",
        "outputId": "e387ffaf-1207-44fa-bc14-ee0b9e74aaad"
      },
      "execution_count": 15,
      "outputs": [
        {
          "output_type": "stream",
          "name": "stdout",
          "text": [
            "tempos medios em 100 casos aleatórios=\n",
            "  [1e-05, 1e-05, 2e-05, 2e-05, 1e-05, 2e-05, 2e-05, 2e-05, 2e-05, 3e-05]\n",
            "número médio de comparações em casos aleatórios=\n",
            "  [16, 17, 17, 18, 18, 18, 18, 19, 19, 19]\n",
            "Desvio padrão Tempo\n",
            " [0.0, 0.0, 0.0, 0.0, 0.0, 1e-05, 0.0, 1e-05, 0.0, 1e-05]\n",
            "Desvio padrão Comparações\n",
            " [0, 1, 0, 1, 1, 1, 1, 1, 1, 1]\n",
            "  Casos de Teste  Tempo Médio  Desvio Padrão do Tempo  Numero de Comparações  \\\n",
            "0         Caso 1      0.00001                 0.00000                     16   \n",
            "1         Caso 2      0.00001                 0.00000                     17   \n",
            "2         Caso 3      0.00002                 0.00000                     17   \n",
            "3         Caso 4      0.00002                 0.00000                     18   \n",
            "4         Caso 5      0.00001                 0.00000                     18   \n",
            "5         Caso 6      0.00002                 0.00001                     18   \n",
            "6         Caso 7      0.00002                 0.00000                     18   \n",
            "7         Caso 8      0.00002                 0.00001                     19   \n",
            "8         Caso 9      0.00002                 0.00000                     19   \n",
            "9        Caso 10      0.00003                 0.00001                     19   \n",
            "\n",
            "   Desvio Padrão Comparações  \n",
            "0                          0  \n",
            "1                          1  \n",
            "2                          0  \n",
            "3                          1  \n",
            "4                          1  \n",
            "5                          1  \n",
            "6                          1  \n",
            "7                          1  \n",
            "8                          1  \n",
            "9                          1  \n",
            "\\begin{tabular}{lrrrr}\n",
            "\\toprule\n",
            "Casos de Teste &  Tempo Médio &  Desvio Padrão do Tempo &  Numero de Comparações &  Desvio Padrão Comparações \\\\\n",
            "\\midrule\n",
            "        Caso 1 &      0.00001 &                 0.00000 &                     16 &                          0 \\\\\n",
            "        Caso 2 &      0.00001 &                 0.00000 &                     17 &                          1 \\\\\n",
            "        Caso 3 &      0.00002 &                 0.00000 &                     17 &                          0 \\\\\n",
            "        Caso 4 &      0.00002 &                 0.00000 &                     18 &                          1 \\\\\n",
            "        Caso 5 &      0.00001 &                 0.00000 &                     18 &                          1 \\\\\n",
            "        Caso 6 &      0.00002 &                 0.00001 &                     18 &                          1 \\\\\n",
            "        Caso 7 &      0.00002 &                 0.00000 &                     18 &                          1 \\\\\n",
            "        Caso 8 &      0.00002 &                 0.00001 &                     19 &                          1 \\\\\n",
            "        Caso 9 &      0.00002 &                 0.00000 &                     19 &                          1 \\\\\n",
            "       Caso 10 &      0.00003 &                 0.00001 &                     19 &                          1 \\\\\n",
            "\\bottomrule\n",
            "\\end{tabular}\n",
            "\n"
          ]
        },
        {
          "output_type": "stream",
          "name": "stderr",
          "text": [
            "<ipython-input-6-6134870e3d08>:20: FutureWarning: In future versions `DataFrame.to_latex` is expected to utilise the base implementation of `Styler.to_latex` for formatting and rendering. The arguments signature may therefore change. It is recommended instead to use `DataFrame.style.to_latex` which also contains additional functionality.\n",
            "  tabela_latex = df.to_latex(index=False)\n"
          ]
        }
      ]
    },
    {
      "cell_type": "markdown",
      "source": [
        "Lista Ligada"
      ],
      "metadata": {
        "id": "EwIoasuiVflN"
      }
    },
    {
      "cell_type": "code",
      "source": [
        "import timeit\n",
        "\n",
        "num_comp = 0\n",
        "\n",
        "from os import execl\n",
        "class No:\n",
        "  def __init__(self, dado=0, proximo_nodo=None):\n",
        "    self.dado = dado\n",
        "    self.proximo = proximo_nodo\n",
        "\n",
        "  def __repr__(self):\n",
        "    return '%s -> %s' % (self.dado, self.proximo)\n",
        "\n",
        "  def set_proximo(self, proximo):\n",
        "    self.proximo_nodo = proximo\n",
        "\n",
        "class Lista:\n",
        "  def __init__(self):\n",
        "    self.cabeca = None\n",
        "\n",
        "  def __repr__(self):\n",
        "    return \"[\" + str(self.cabeca) + \"]\"\n",
        "\n",
        "\n",
        "\n",
        "  def vazia(self):\n",
        "        return self.cabeca is None\n",
        "  def insere_depois(self, nodo_anterior, novo_dado):\n",
        "    assert nodo_anterior, \"Nodo anterior precisa existir na lista.\"\n",
        "    novo_nodo = No(novo_dado)\n",
        "    novo_nodo.proximo = nodo_anterior.proximo\n",
        "    nodo_anterior.proximo = novo_nodo\n",
        "\n",
        "  def insere_no_fim(self, dado):\n",
        "        novo_no = No(dado)\n",
        "\n",
        "        if self.cabeca is None:\n",
        "            self.cabeca = novo_no\n",
        "        else:\n",
        "            atual = self.cabeca\n",
        "            while atual.proximo is not None:\n",
        "                atual = atual.proximo\n",
        "            atual.proximo = novo_no\n",
        "\n",
        "  def insere_no_inicio(self, novo_dado):\n",
        "    novo_nodo = No(novo_dado)\n",
        "    novo_nodo.proximo = self.cabeca\n",
        "    self.cabeca = novo_nodo\n",
        "\n",
        "  def preencher(array):\n",
        "    #for i in array:\n",
        "    #  print(i,end=\" \")\n",
        "    print(array)\n",
        "\n",
        "  def busca(self, chave):\n",
        "    atual = self.cabeca\n",
        "    pos = 0\n",
        "    while atual is not None:\n",
        "      global num_comp\n",
        "      num_comp = num_comp + 1\n",
        "      if atual.dado == chave:\n",
        "          return pos\n",
        "      atual = atual.proximo\n",
        "      pos = pos+1\n",
        "    return -1\n",
        "\n",
        "  def tamanho(self):\n",
        "    size = 0\n",
        "    atual = self.cabeca\n",
        "    while atual is not None:\n",
        "        size += 1\n",
        "        atual = atual.proximo\n",
        "    return size\n",
        "  def primeiro(self):\n",
        "    return self.cabeca.dado\n",
        "  def remove(self, valor):\n",
        "    assert self.cabeca, \"Impossível remover valor de lista vazia.\"\n",
        "\n",
        "    # Nodo a ser removido é a cabeça da lista.\n",
        "    if self.cabeca.dado == valor:\n",
        "        self.cabeca = self.cabeca.proximo\n",
        "    else:\n",
        "        # Encontra a posição do elemento a ser removido.\n",
        "        anterior = None\n",
        "        corrente = self.cabeca\n",
        "        while corrente and corrente.dado != valor:\n",
        "            anterior = corrente\n",
        "            corrente = corrente.proximo\n",
        "        # O nodo corrente é o nodo a ser removido.\n",
        "        if corrente:\n",
        "            anterior.proximo = corrente.proximo\n",
        "        else:\n",
        "            # O nodo corrente é a cauda da lista.\n",
        "            anterior.proximo = None"
      ],
      "metadata": {
        "id": "Hvd0J3YFVhl2"
      },
      "execution_count": 16,
      "outputs": []
    },
    {
      "cell_type": "markdown",
      "source": [
        "Teste da Lista ligada no pior caso"
      ],
      "metadata": {
        "id": "X3KrmVp7XdZG"
      }
    },
    {
      "cell_type": "code",
      "source": [
        "#teste da lista ligada\n",
        "import math\n",
        "#carregar vetores\n",
        "#array1 = np.loadtxt(\"arq1.txt\")\n",
        "#print(array1)\n",
        "#print(len(array1))\n",
        "tempo_piorcaso = []\n",
        "num_comp_piorcaso = []\n",
        "\n",
        "for i in range(1,11,1):\n",
        "  #preencher a lista\n",
        "  lista = Lista()\n",
        "  strArq = \"arq\"+str(i)+\".txt\"\n",
        "  array = np.loadtxt(strArq)\n",
        "  chave = array[0]\n",
        "  #print(array)\n",
        "  \n",
        "  #preencher lista\n",
        "  for j in array:\n",
        "    #lista.insere_no_fim(j)\n",
        "    lista.insere_no_inicio(j)\n",
        "  #chave = lista.primeiro()\n",
        "  \n",
        "  #pos = lista.busca(chave)\n",
        "  #print(pos)\n",
        "  tempo_piorcaso.append(round(timeit.timeit(lambda: lista.busca(chave), number=1),4))\n",
        "  taux = 0\n",
        "  #print(\"Número de Comparações =\",num_comp)\n",
        "  num_comp_piorcaso.append(num_comp)\n",
        "  num_comp = 0\n",
        "  \n",
        "print(\"tempo pior caso =\\n\", tempo_piorcaso)\n",
        "print(\"Número de Comparações no pior caso =\\n\",num_comp_piorcaso)\n",
        "geradorPiorCaso(tempo_piorcaso,num_comp_piorcaso)"
      ],
      "metadata": {
        "colab": {
          "base_uri": "https://localhost:8080/"
        },
        "id": "YwvxgLaeX-LI",
        "outputId": "4c94a801-c3d0-4c32-a657-cee8da2ba528"
      },
      "execution_count": 17,
      "outputs": [
        {
          "output_type": "stream",
          "name": "stdout",
          "text": [
            "tempo pior caso =\n",
            " [0.0229, 0.0445, 0.0651, 0.0863, 0.1069, 0.2559, 0.1582, 0.1782, 0.2083, 0.2168]\n",
            "Número de Comparações no pior caso =\n",
            " [100000, 200000, 300000, 400000, 500000, 600000, 700000, 800000, 900000, 1000000]\n",
            "  Casos de Teste  Tempo no Pior Caso  Numero de Comparações\n",
            "0         Caso 1              0.0229                 100000\n",
            "1         Caso 2              0.0445                 200000\n",
            "2         Caso 3              0.0651                 300000\n",
            "3         Caso 4              0.0863                 400000\n",
            "4         Caso 5              0.1069                 500000\n",
            "5         Caso 6              0.2559                 600000\n",
            "6         Caso 7              0.1582                 700000\n",
            "7         Caso 8              0.1782                 800000\n",
            "8         Caso 9              0.2083                 900000\n",
            "9        Caso 10              0.2168                1000000\n",
            "\\begin{tabular}{lrr}\n",
            "\\toprule\n",
            "Casos de Teste &  Tempo no Pior Caso &  Numero de Comparações \\\\\n",
            "\\midrule\n",
            "        Caso 1 &              0.0229 &                 100000 \\\\\n",
            "        Caso 2 &              0.0445 &                 200000 \\\\\n",
            "        Caso 3 &              0.0651 &                 300000 \\\\\n",
            "        Caso 4 &              0.0863 &                 400000 \\\\\n",
            "        Caso 5 &              0.1069 &                 500000 \\\\\n",
            "        Caso 6 &              0.2559 &                 600000 \\\\\n",
            "        Caso 7 &              0.1582 &                 700000 \\\\\n",
            "        Caso 8 &              0.1782 &                 800000 \\\\\n",
            "        Caso 9 &              0.2083 &                 900000 \\\\\n",
            "       Caso 10 &              0.2168 &                1000000 \\\\\n",
            "\\bottomrule\n",
            "\\end{tabular}\n",
            "\n"
          ]
        },
        {
          "output_type": "stream",
          "name": "stderr",
          "text": [
            "<ipython-input-5-1f63115eb25f>:20: FutureWarning: In future versions `DataFrame.to_latex` is expected to utilise the base implementation of `Styler.to_latex` for formatting and rendering. The arguments signature may therefore change. It is recommended instead to use `DataFrame.style.to_latex` which also contains additional functionality.\n",
            "  tabela_latex = df.to_latex(index=False)\n"
          ]
        }
      ]
    },
    {
      "cell_type": "markdown",
      "source": [
        "Teste da Lista ligada em 100 casos aleatórios"
      ],
      "metadata": {
        "id": "tXTLR8KCyVdG"
      }
    },
    {
      "cell_type": "code",
      "source": [
        "import math\n",
        "import statistics\n",
        "tempo_casoaleat = []\n",
        "num_comp_casos_aleat = []\n",
        "desvios_tempo = []\n",
        "desvios_comp = []\n",
        "for i in range(1,11,1):\n",
        "      lista = Lista()\n",
        "      strArq = \"arq\"+str(i)+\".txt\"\n",
        "      array = np.loadtxt(strArq)\n",
        "      chave_aleat = genChavealet(len(array),100)\n",
        "      #print(array)\n",
        "\n",
        "      #preencher lista\n",
        "      for j in array:\n",
        "        #lista.insere_no_fim(j)\n",
        "        lista.insere_no_inicio(j)\n",
        "      #print(\"Array = \",array)\n",
        "      #print(\"tamanho\",len(array))\n",
        "      t = 0.0\n",
        "      \n",
        "      #print(\"chaves aleeatórias = \",chave_aleat)\n",
        "      tempo_total = 0.0\n",
        "      Taux = []\n",
        "      nc = []\n",
        "      \n",
        "      total_num_comp = 0.0\n",
        "      for j in range(100):\n",
        "          t = timeit.timeit(lambda: lista.busca(chave_aleat[j]), number=1)\n",
        "          tempo_total +=t\n",
        "          Taux.append(t)\n",
        "          t = 0\n",
        "          total_num_comp += num_comp\n",
        "          nc.append(num_comp)\n",
        "          num_comp = 0\n",
        "\n",
        "      desvios_tempo.append(round(statistics.pstdev(Taux),5))\n",
        "      desvios_comp.append(int(statistics.pstdev(nc)))\n",
        "      tempo_casoaleat.append(round((tempo_total/100),5))\n",
        "      num_comp_casos_aleat.append(int(total_num_comp/100))\n",
        "      total_num_comp = 0\n",
        "      \n",
        "      #print(\"tempo=\",t)\n",
        "\n",
        "print(\"tempos medios em 100 casos aleatórios=\\n \",tempo_casoaleat)\n",
        "print(\"número médio de comparações em casos aleatórios=\\n \",num_comp_casos_aleat)\n",
        "print(\"Desvio padrão Tempo\\n\",desvios_tempo)\n",
        "print(\"Desvio padrão Comparações\\n\",desvios_comp)\n",
        "geradorCasosAleatorios(tempo_casoaleat,desvios_tempo,num_comp_casos_aleat,desvios_comp)"
      ],
      "metadata": {
        "colab": {
          "base_uri": "https://localhost:8080/"
        },
        "id": "0slmB51zyVBk",
        "outputId": "6deb3b93-2c37-40b7-a733-3500a2c6f073"
      },
      "execution_count": 18,
      "outputs": [
        {
          "output_type": "stream",
          "name": "stdout",
          "text": [
            "tempos medios em 100 casos aleatórios=\n",
            "  [0.02217, 0.05415, 0.06273, 0.09627, 0.12606, 0.14413, 0.17868, 0.18893, 0.22564, 0.25617]\n",
            "número médio de comparações em casos aleatórios=\n",
            "  [76392, 163715, 222236, 284419, 394140, 435531, 576286, 612729, 707728, 752541]\n",
            "Desvio padrão Tempo\n",
            " [0.00908, 0.02611, 0.02757, 0.05516, 0.05993, 0.08099, 0.07634, 0.09899, 0.11729, 0.14121]\n",
            "Desvio padrão Comparações\n",
            " [31127, 57835, 97714, 133859, 139380, 203443, 183676, 273317, 280860, 321679]\n",
            "  Casos de Teste  Tempo Médio  Desvio Padrão do Tempo  Numero de Comparações  \\\n",
            "0         Caso 1      0.02217                 0.00908                  76392   \n",
            "1         Caso 2      0.05415                 0.02611                 163715   \n",
            "2         Caso 3      0.06273                 0.02757                 222236   \n",
            "3         Caso 4      0.09627                 0.05516                 284419   \n",
            "4         Caso 5      0.12606                 0.05993                 394140   \n",
            "5         Caso 6      0.14413                 0.08099                 435531   \n",
            "6         Caso 7      0.17868                 0.07634                 576286   \n",
            "7         Caso 8      0.18893                 0.09899                 612729   \n",
            "8         Caso 9      0.22564                 0.11729                 707728   \n",
            "9        Caso 10      0.25617                 0.14121                 752541   \n",
            "\n",
            "   Desvio Padrão Comparações  \n",
            "0                      31127  \n",
            "1                      57835  \n",
            "2                      97714  \n",
            "3                     133859  \n",
            "4                     139380  \n",
            "5                     203443  \n",
            "6                     183676  \n",
            "7                     273317  \n",
            "8                     280860  \n",
            "9                     321679  \n",
            "\\begin{tabular}{lrrrr}\n",
            "\\toprule\n",
            "Casos de Teste &  Tempo Médio &  Desvio Padrão do Tempo &  Numero de Comparações &  Desvio Padrão Comparações \\\\\n",
            "\\midrule\n",
            "        Caso 1 &      0.02217 &                 0.00908 &                  76392 &                      31127 \\\\\n",
            "        Caso 2 &      0.05415 &                 0.02611 &                 163715 &                      57835 \\\\\n",
            "        Caso 3 &      0.06273 &                 0.02757 &                 222236 &                      97714 \\\\\n",
            "        Caso 4 &      0.09627 &                 0.05516 &                 284419 &                     133859 \\\\\n",
            "        Caso 5 &      0.12606 &                 0.05993 &                 394140 &                     139380 \\\\\n",
            "        Caso 6 &      0.14413 &                 0.08099 &                 435531 &                     203443 \\\\\n",
            "        Caso 7 &      0.17868 &                 0.07634 &                 576286 &                     183676 \\\\\n",
            "        Caso 8 &      0.18893 &                 0.09899 &                 612729 &                     273317 \\\\\n",
            "        Caso 9 &      0.22564 &                 0.11729 &                 707728 &                     280860 \\\\\n",
            "       Caso 10 &      0.25617 &                 0.14121 &                 752541 &                     321679 \\\\\n",
            "\\bottomrule\n",
            "\\end{tabular}\n",
            "\n"
          ]
        },
        {
          "output_type": "stream",
          "name": "stderr",
          "text": [
            "<ipython-input-6-6134870e3d08>:20: FutureWarning: In future versions `DataFrame.to_latex` is expected to utilise the base implementation of `Styler.to_latex` for formatting and rendering. The arguments signature may therefore change. It is recommended instead to use `DataFrame.style.to_latex` which also contains additional functionality.\n",
            "  tabela_latex = df.to_latex(index=False)\n"
          ]
        }
      ]
    },
    {
      "cell_type": "markdown",
      "source": [
        "Árvore Binária de Busca"
      ],
      "metadata": {
        "id": "_ARsKCC2ViN-"
      }
    },
    {
      "cell_type": "code",
      "source": [
        "class No:\n",
        "\tdef __init__(self, key, dir, esq):\n",
        "\t\tself.dado = key\n",
        "\t\tself.dir = dir\n",
        "\t\tself.esq = esq\n",
        "\n",
        "class Arvore:\n",
        "  def __init__(self):\n",
        "    self.root = No(None, None, None)\n",
        "    self.root = None\n",
        "  def inserir(self, v):\n",
        "    novo = No(v, None, None)\n",
        "\t\t\n",
        "    if self.root == None:\n",
        "      \n",
        "      self.root = novo\t\n",
        "    else:\n",
        "      atual = self.root  \n",
        "      while True:\n",
        "        anterior = atual\n",
        "        if v <= atual.dado:  # ir para esquerda\n",
        "          atual = atual.esq\n",
        "          if atual == None:\n",
        "            anterior.esq = novo\n",
        "            return\n",
        "\t\t\t\n",
        "        else:  # ir para direita\n",
        "          atual = atual.dir\n",
        "          if atual == None:\n",
        "            anterior.dir = novo\n",
        "            return\n",
        "\t\t\n",
        "  def bfs(self, node,n):\n",
        "    if not node:\n",
        "      return\n",
        "    queue = []\n",
        "    queue.append(node)\n",
        "    contador = 0\n",
        "    while queue:\n",
        "      node = queue.pop(0)\n",
        "      contador = contador + 1\n",
        "      if(contador != n):\n",
        "        print(node.dado,end=\" \")\n",
        "      else:\n",
        "        print(node.dado,end=\"\")\n",
        "        \n",
        "      if node.esq:\n",
        "        queue.append(node.esq)\n",
        "      if node.dir:\n",
        "        queue.append(node.dir)\n",
        "    \n",
        "  def inOrder(self, atual):\n",
        "    if atual != None:\n",
        "      self.inOrder(atual.esq)\n",
        "      print(\"\",atual.dado,end=\"\")\n",
        "      self.inOrder(atual.dir)\n",
        "\n",
        "  def preOrder(self, atual):\n",
        "    if atual != None:\n",
        "      print(\"\",atual.dado,end=\"\")\n",
        "      self.preOrder(atual.esq)\n",
        "      self.preOrder(atual.dir)\n",
        "\n",
        "  def posOrder(self, atual):\n",
        "    if atual != None:\n",
        "      self.posOrder(atual.esq)\n",
        "      self.posOrder(atual.dir)\n",
        "      print(\"\",atual.dado,end=\"\")\n",
        "\n",
        "  def altura_max(self, atual):\n",
        "    if atual == None:\n",
        "          return 0\n",
        "    return self.altura_arv(self.root)\n",
        "\n",
        "  def maior(self,esq,dir):\n",
        "    if(esq>dir):\n",
        "      return esq\n",
        "    else:\n",
        "      return dir\n",
        "\n",
        "  def altura_arv(self,node):\n",
        "    if node is None:\n",
        "        return 0\n",
        "    altura_esq = self.altura_arv(node.esq)\n",
        "    altura_dir = self.altura_arv(node.dir)\n",
        "    return self.maior(altura_esq, altura_dir) + 1\n",
        "\n",
        "  def folhas(self, atual):\n",
        "      if atual == None:\n",
        "          return 0\n",
        "      if atual.esq == None and atual.dir == None:\n",
        "          return 1\n",
        "      return self.folhas(atual.esq) + self.folhas(atual.dir)\n",
        "\n",
        "  \n",
        "  def contarNos(self, atual):\n",
        "    if atual == None:\n",
        "          return 0\n",
        "    else:\n",
        "          return  1 + self.contarNos(atual.esq) + self.contarNos(atual.dir)\n",
        "\n",
        "  def minn(self):\n",
        "      atual = self.root\n",
        "      anterior = None\n",
        "      while atual != None:\n",
        "          anterior = atual\n",
        "          atual = atual.esq\n",
        "      return anterior\n",
        "\n",
        "  def busca(self, chave):\n",
        "      global num_comp\n",
        "      num_comp = 0\n",
        "      return self.busca_recursiva(self.root, chave)\n",
        "\n",
        "  def busca_recursiva(self, node, chave):\n",
        "      global num_comp\n",
        "      num_comp = num_comp + 1\n",
        "      if node is None or node.dado == chave:\n",
        "          return node\n",
        "      if chave < node.dado:\n",
        "          return self.busca_recursiva(node.esq, chave)\n",
        "      else:\n",
        "          return self.busca_recursiva(node.dir, chave)\n",
        "  def maxx(self):\n",
        "      atual = self.root\n",
        "      anterior = None\n",
        "      while atual != None:\n",
        "          anterior = atual\n",
        "          atual = atual.dir\n",
        "      return anterior"
      ],
      "metadata": {
        "id": "m4yTqSn3Vklu"
      },
      "execution_count": 19,
      "outputs": []
    },
    {
      "cell_type": "markdown",
      "source": [
        "Teste da árvore binária no pior caso"
      ],
      "metadata": {
        "id": "ahG30xlfvy5z"
      }
    },
    {
      "cell_type": "code",
      "source": [
        "#teste da árvore binária\n",
        "import timeit\n",
        "import time\n",
        "tempo_piorcaso = []\n",
        "num_comp_piorcaso = []\n",
        "num_comp = 0\n",
        "alturas = []\n",
        "tempo_inicial = 0\n",
        "tempo_final = 0\n",
        "tempo_inserir = []\n",
        "for i in range(1,11,1):\n",
        "      arv = Arvore()\n",
        "      tempo_inicial = 0\n",
        "      tempo_final = 0\n",
        "      strArq = \"arq\"+str(i)+\".txt\"\n",
        "      array = np.loadtxt(strArq)\n",
        "      #print(len(array))\n",
        "      #preencher arvore\n",
        "      chave = len(array)+1\n",
        "      #print(chave)\n",
        "      tempo_inicial = time.time()\n",
        "      for j in array:\n",
        "        arv.inserir(j)\n",
        "      tempo_final = time.time()\n",
        "      tempo_inserir.append( round((tempo_final - tempo_inicial),5))\n",
        "      #print(arv.altura_max(arv.root))\n",
        "      alturas.append(arv.altura_max(arv.root))\n",
        "      #arv.preOrder(arv.root)\n",
        "      tempo_piorcaso.append(\"{:.6f}\".format((timeit.timeit(lambda: arv.busca(chave), number=1))))\n",
        "      #arv.busca(chave)\n",
        "      #arv.inOrder(arv.root)\n",
        "      #arv.busca(chave)\n",
        "      taux = 0\n",
        "      #print(\"Número de Comparações =\",num_comp)\n",
        "      num_comp_piorcaso.append(num_comp)\n",
        "      num_comp = 0\n",
        "\n",
        "print(\"tempo pior caso =\\n\", tempo_piorcaso)\n",
        "print(\"Número de Comparações no pior caso =\\n\",num_comp_piorcaso)\n",
        "print(\"Alturas da árvore = \\n\",alturas)\n",
        "print(\"tempo para inserir\",tempo_inserir)"
      ],
      "metadata": {
        "colab": {
          "base_uri": "https://localhost:8080/"
        },
        "id": "dwgTUpNHYB33",
        "outputId": "c563c621-8876-4277-f86e-507aa6d10919"
      },
      "execution_count": 20,
      "outputs": [
        {
          "output_type": "stream",
          "name": "stdout",
          "text": [
            "tempo pior caso =\n",
            " ['0.000032', '0.000030', '0.000036', '0.000043', '0.000032', '0.000038', '0.000040', '0.000039', '0.000034', '0.000044']\n",
            "Número de Comparações no pior caso =\n",
            " [16, 14, 19, 14, 16, 19, 18, 22, 14, 19]\n",
            "Alturas da árvore = \n",
            " [41, 43, 45, 44, 45, 52, 47, 49, 52, 48]\n",
            "tempo para inserir [0.92435, 1.22336, 2.38833, 3.35915, 5.42155, 6.284, 7.30766, 8.99007, 10.43431, 12.86248]\n"
          ]
        }
      ]
    },
    {
      "cell_type": "markdown",
      "source": [
        "Gerador de Relatórios no Pior caso da Árvore Binária de Busca"
      ],
      "metadata": {
        "id": "4wUMyTOcpe4n"
      }
    },
    {
      "cell_type": "code",
      "source": [
        "import pandas as pd\n",
        "import itertools\n",
        "Casos = ['Caso 1','Caso 2','Caso 3','Caso 4','Caso 5','Caso 6','Caso 7','Caso 8','Caso 9','Caso 10']\n",
        "tabela = [Casos, tempo_inserir,tempo_piorcaso,num_comp_piorcaso,alturas]\n",
        "lista_intercalada = list(itertools.chain.from_iterable(zip(*tabela)))\n",
        "\n",
        "num_linhas = len(lista_intercalada) // 6  # Número de linhas (assumindo que são 6 colunas)\n",
        "num_colunas = 5\n",
        "matriz = [lista_intercalada[i:i+num_colunas] for i in range(0, len(lista_intercalada), num_colunas)]\n",
        "\n",
        "\n",
        "#print(lista_intercalada)\n",
        "#df = pd.DataFrame(lista_intercalada, columns=['Casos de Teste', 'Tempo','Desvio Padrão','Comparações', 'Desvio','Altura'])\n",
        "df = pd.DataFrame(matriz, columns=['Casos de Teste', 'Tempo para inserir', 'Tempo no Pior Caso', 'Numero de Comparações','Alturas'])\n",
        "#df_transposto = df.transpose()\n",
        "#df = pd.DataFrame(df_transposto)\n",
        "print(df)\n",
        "\n",
        "tabela_latex = df.to_latex(index=False)\n",
        "\n",
        "# Imprima a string LaTeX resultante\n",
        "print(tabela_latex)"
      ],
      "metadata": {
        "colab": {
          "base_uri": "https://localhost:8080/"
        },
        "id": "ke9DfIBNpjK6",
        "outputId": "5a0134f4-71d0-4d2e-d9b8-21f3fdadca8e"
      },
      "execution_count": 21,
      "outputs": [
        {
          "output_type": "stream",
          "name": "stdout",
          "text": [
            "  Casos de Teste  Tempo para inserir Tempo no Pior Caso  \\\n",
            "0         Caso 1             0.92435           0.000032   \n",
            "1         Caso 2             1.22336           0.000030   \n",
            "2         Caso 3             2.38833           0.000036   \n",
            "3         Caso 4             3.35915           0.000043   \n",
            "4         Caso 5             5.42155           0.000032   \n",
            "5         Caso 6             6.28400           0.000038   \n",
            "6         Caso 7             7.30766           0.000040   \n",
            "7         Caso 8             8.99007           0.000039   \n",
            "8         Caso 9            10.43431           0.000034   \n",
            "9        Caso 10            12.86248           0.000044   \n",
            "\n",
            "   Numero de Comparações  Alturas  \n",
            "0                     16       41  \n",
            "1                     14       43  \n",
            "2                     19       45  \n",
            "3                     14       44  \n",
            "4                     16       45  \n",
            "5                     19       52  \n",
            "6                     18       47  \n",
            "7                     22       49  \n",
            "8                     14       52  \n",
            "9                     19       48  \n",
            "\\begin{tabular}{lrlrr}\n",
            "\\toprule\n",
            "Casos de Teste &  Tempo para inserir & Tempo no Pior Caso &  Numero de Comparações &  Alturas \\\\\n",
            "\\midrule\n",
            "        Caso 1 &             0.92435 &           0.000032 &                     16 &       41 \\\\\n",
            "        Caso 2 &             1.22336 &           0.000030 &                     14 &       43 \\\\\n",
            "        Caso 3 &             2.38833 &           0.000036 &                     19 &       45 \\\\\n",
            "        Caso 4 &             3.35915 &           0.000043 &                     14 &       44 \\\\\n",
            "        Caso 5 &             5.42155 &           0.000032 &                     16 &       45 \\\\\n",
            "        Caso 6 &             6.28400 &           0.000038 &                     19 &       52 \\\\\n",
            "        Caso 7 &             7.30766 &           0.000040 &                     18 &       47 \\\\\n",
            "        Caso 8 &             8.99007 &           0.000039 &                     22 &       49 \\\\\n",
            "        Caso 9 &            10.43431 &           0.000034 &                     14 &       52 \\\\\n",
            "       Caso 10 &            12.86248 &           0.000044 &                     19 &       48 \\\\\n",
            "\\bottomrule\n",
            "\\end{tabular}\n",
            "\n"
          ]
        },
        {
          "output_type": "stream",
          "name": "stderr",
          "text": [
            "<ipython-input-21-de38f9dd61f8>:19: FutureWarning: In future versions `DataFrame.to_latex` is expected to utilise the base implementation of `Styler.to_latex` for formatting and rendering. The arguments signature may therefore change. It is recommended instead to use `DataFrame.style.to_latex` which also contains additional functionality.\n",
            "  tabela_latex = df.to_latex(index=False)\n"
          ]
        }
      ]
    },
    {
      "cell_type": "markdown",
      "source": [
        "Teste da Árvore binária de busca em 100 casos aleatórios"
      ],
      "metadata": {
        "id": "BjLe8FbwXyA5"
      }
    },
    {
      "cell_type": "code",
      "source": [
        "import math\n",
        "import statistics\n",
        "tempo_casoaleat = []\n",
        "num_comp_casos_aleat = []\n",
        "desvios_tempo = []\n",
        "desvios_comp = []\n",
        "alturas = []\n",
        "tempo_inserir = []\n",
        "for i in range(1,11,1):\n",
        "      arv = Arvore()\n",
        "      strArq = \"arq\"+str(i)+\".txt\"\n",
        "      array = np.loadtxt(strArq)\n",
        "      chave_aleat = genChavealet(len(array),100)\n",
        "      #print(array)\n",
        "      tempo_inicial = tempo_final = 0\n",
        "      #preencher lista\n",
        "      tempo_inicial = time.time()\n",
        "      for j in array:\n",
        "        arv.inserir(j)\n",
        "      tempo_final = time.time()\n",
        "      tempo_inserir.append(round((tempo_final - tempo_inicial),5))\n",
        "      #print(\"Array = \",array)\n",
        "      #print(\"tamanho\",len(array))\n",
        "      alturas.append(arv.altura_max(arv.root))\n",
        "      t = 0.0\n",
        "      \n",
        "      #print(\"chaves aleeatórias = \",chave_aleat)\n",
        "      tempo_total = 0.0\n",
        "      Taux = []\n",
        "      nc = []\n",
        "      \n",
        "      total_num_comp = 0.0\n",
        "      for j in range(100):\n",
        "          t = timeit.timeit(lambda: arv.busca(chave_aleat[j]), number=1)\n",
        "          tempo_total +=t\n",
        "          Taux.append(t)\n",
        "          t = 0\n",
        "          total_num_comp += num_comp\n",
        "          nc.append(num_comp)\n",
        "          num_comp = 0\n",
        "\n",
        "      desvios_tempo.append(round(statistics.pstdev(Taux),5))\n",
        "      desvios_comp.append(int(statistics.pstdev(nc)))\n",
        "      tempo_casoaleat.append(round((tempo_total/100),5))\n",
        "      num_comp_casos_aleat.append(int(total_num_comp/100))\n",
        "      total_num_comp = 0\n",
        "      \n",
        "      #print(\"tempo=\",t)\n",
        "\n",
        "print(\"tempos medios em 100 casos aleatórios=\\n \",tempo_casoaleat)\n",
        "print(\"número médio de comparações em casos aleatórios=\\n \",num_comp_casos_aleat)\n",
        "print(\"Desvio padrão Tempo\\n\",desvios_tempo)\n",
        "print(\"Desvio padrão Comparações\\n\",desvios_comp)\n",
        "print(\"Alturas das árvores = \\n\",alturas)\n",
        "print(\"tempo para inserir\",tempo_inserir)"
      ],
      "metadata": {
        "colab": {
          "base_uri": "https://localhost:8080/"
        },
        "id": "jUO8gFQWXxSU",
        "outputId": "d46ea127-52c0-444e-df73-be06ea4ff281"
      },
      "execution_count": 22,
      "outputs": [
        {
          "output_type": "stream",
          "name": "stdout",
          "text": [
            "tempos medios em 100 casos aleatórios=\n",
            "  [6e-05, 6e-05, 7e-05, 8e-05, 7e-05, 7e-05, 0.0001, 8e-05, 7e-05, 9e-05]\n",
            "número médio de comparações em casos aleatórios=\n",
            "  [21, 22, 23, 24, 25, 25, 25, 26, 25, 27]\n",
            "Desvio padrão Tempo\n",
            " [2e-05, 1e-05, 1e-05, 4e-05, 2e-05, 2e-05, 5e-05, 2e-05, 2e-05, 8e-05]\n",
            "Desvio padrão Comparações\n",
            " [5, 4, 4, 4, 5, 5, 4, 5, 4, 4]\n",
            "Alturas das árvores = \n",
            " [41, 43, 45, 44, 45, 52, 47, 49, 52, 48]\n",
            "tempo para inserir [0.55598, 1.35233, 2.68953, 4.49142, 4.85158, 7.4185, 7.75106, 9.41536, 11.76559, 12.62449]\n"
          ]
        }
      ]
    },
    {
      "cell_type": "markdown",
      "source": [
        "Gerador de Relatórios"
      ],
      "metadata": {
        "id": "lj6PaxlNeSgC"
      }
    },
    {
      "cell_type": "code",
      "source": [
        "import pandas as pd\n",
        "import itertools\n",
        "Casos = ['Caso 1','Caso 2','Caso 3','Caso 4','Caso 5','Caso 6','Caso 7','Caso 8','Caso 9','Caso 10']\n",
        "tabela = [Casos, tempo_inserir,tempo_casoaleat,desvios_tempo,num_comp_casos_aleat,desvios_comp,alturas]\n",
        "lista_intercalada = list(itertools.chain.from_iterable(zip(*tabela)))\n",
        "\n",
        "num_linhas = len(lista_intercalada) // 6  # Número de linhas (assumindo que são 6 colunas)\n",
        "num_colunas = 7\n",
        "matriz = [lista_intercalada[i:i+num_colunas] for i in range(0, len(lista_intercalada), num_colunas)]\n",
        "\n",
        "\n",
        "#print(lista_intercalada)\n",
        "#df = pd.DataFrame(lista_intercalada, columns=['Casos de Teste', 'Tempo','Desvio Padrão','Comparações', 'Desvio','Altura'])\n",
        "df = pd.DataFrame(matriz, columns=['Casos de Teste','Tempo para Inserir', 'Tempo','Desvio Padrão','Comparações', 'Desvio','Altura'])\n",
        "#df_transposto = df.transpose()\n",
        "#df = pd.DataFrame(df_transposto)\n",
        "print(df)\n",
        "\n",
        "tabela_latex = df.to_latex(index=False)\n",
        "\n",
        "# Imprima a string LaTeX resultante\n",
        "print(tabela_latex)\n",
        "#print(Casos)"
      ],
      "metadata": {
        "colab": {
          "base_uri": "https://localhost:8080/"
        },
        "id": "P4Y1IogaeSP8",
        "outputId": "021821f6-bb9c-4c06-ac6e-9e3e221b805f"
      },
      "execution_count": 23,
      "outputs": [
        {
          "output_type": "stream",
          "name": "stdout",
          "text": [
            "  Casos de Teste  Tempo para Inserir    Tempo  Desvio Padrão  Comparações  \\\n",
            "0         Caso 1             0.55598  0.00006        0.00002           21   \n",
            "1         Caso 2             1.35233  0.00006        0.00001           22   \n",
            "2         Caso 3             2.68953  0.00007        0.00001           23   \n",
            "3         Caso 4             4.49142  0.00008        0.00004           24   \n",
            "4         Caso 5             4.85158  0.00007        0.00002           25   \n",
            "5         Caso 6             7.41850  0.00007        0.00002           25   \n",
            "6         Caso 7             7.75106  0.00010        0.00005           25   \n",
            "7         Caso 8             9.41536  0.00008        0.00002           26   \n",
            "8         Caso 9            11.76559  0.00007        0.00002           25   \n",
            "9        Caso 10            12.62449  0.00009        0.00008           27   \n",
            "\n",
            "   Desvio  Altura  \n",
            "0       5      41  \n",
            "1       4      43  \n",
            "2       4      45  \n",
            "3       4      44  \n",
            "4       5      45  \n",
            "5       5      52  \n",
            "6       4      47  \n",
            "7       5      49  \n",
            "8       4      52  \n",
            "9       4      48  \n",
            "\\begin{tabular}{lrrrrrr}\n",
            "\\toprule\n",
            "Casos de Teste &  Tempo para Inserir &   Tempo &  Desvio Padrão &  Comparações &  Desvio &  Altura \\\\\n",
            "\\midrule\n",
            "        Caso 1 &             0.55598 & 0.00006 &        0.00002 &           21 &       5 &      41 \\\\\n",
            "        Caso 2 &             1.35233 & 0.00006 &        0.00001 &           22 &       4 &      43 \\\\\n",
            "        Caso 3 &             2.68953 & 0.00007 &        0.00001 &           23 &       4 &      45 \\\\\n",
            "        Caso 4 &             4.49142 & 0.00008 &        0.00004 &           24 &       4 &      44 \\\\\n",
            "        Caso 5 &             4.85158 & 0.00007 &        0.00002 &           25 &       5 &      45 \\\\\n",
            "        Caso 6 &             7.41850 & 0.00007 &        0.00002 &           25 &       5 &      52 \\\\\n",
            "        Caso 7 &             7.75106 & 0.00010 &        0.00005 &           25 &       4 &      47 \\\\\n",
            "        Caso 8 &             9.41536 & 0.00008 &        0.00002 &           26 &       5 &      49 \\\\\n",
            "        Caso 9 &            11.76559 & 0.00007 &        0.00002 &           25 &       4 &      52 \\\\\n",
            "       Caso 10 &            12.62449 & 0.00009 &        0.00008 &           27 &       4 &      48 \\\\\n",
            "\\bottomrule\n",
            "\\end{tabular}\n",
            "\n"
          ]
        },
        {
          "output_type": "stream",
          "name": "stderr",
          "text": [
            "<ipython-input-23-188ab4a0cf9a>:19: FutureWarning: In future versions `DataFrame.to_latex` is expected to utilise the base implementation of `Styler.to_latex` for formatting and rendering. The arguments signature may therefore change. It is recommended instead to use `DataFrame.style.to_latex` which also contains additional functionality.\n",
            "  tabela_latex = df.to_latex(index=False)\n"
          ]
        }
      ]
    }
  ]
}