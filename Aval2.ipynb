{
  "nbformat": 4,
  "nbformat_minor": 0,
  "metadata": {
    "colab": {
      "provenance": [],
      "authorship_tag": "ABX9TyOYpBaYVXfAL6as0b93+ULu",
      "include_colab_link": true
    },
    "kernelspec": {
      "name": "python3",
      "display_name": "Python 3"
    },
    "language_info": {
      "name": "python"
    }
  },
  "cells": [
    {
      "cell_type": "markdown",
      "metadata": {
        "id": "view-in-github",
        "colab_type": "text"
      },
      "source": [
        "<a href=\"https://colab.research.google.com/github/lucssoares7/C-digos/blob/main/Aval2.ipynb\" target=\"_parent\"><img src=\"https://colab.research.google.com/assets/colab-badge.svg\" alt=\"Open In Colab\"/></a>"
      ]
    },
    {
      "cell_type": "code",
      "execution_count": null,
      "metadata": {
        "id": "IhlqccWOUpFk"
      },
      "outputs": [],
      "source": [
        "#gerador de números aleatórios\n",
        "import random\n",
        "import numpy as np\n",
        "\n",
        "def gen(array, max, size):\n",
        "    num = random.sample(range(-max,max),size)\n",
        "    for i in range(size):\n",
        "        array[i] = num[i]\n",
        "\n",
        "    return array\n",
        "    \n",
        "tax = 1\n",
        "\n",
        "#def gerador:\n",
        "\n",
        "for tax in range(1,11,1):\n",
        "    #tax = tax + 1\n",
        "    size = 100000    \n",
        "    strArq = \"arq\"+str(tax)+\".txt\"\n",
        "    #arq1 = open(strArq,\"w+\")\n",
        "    size = size*(tax)\n",
        "    vetor = [0]*size\n",
        "    Array = np.array(gen(vetor,size,size))\n",
        "    np.savetxt(strArq, Array)\n",
        "    #arq1.close()"
      ]
    },
    {
      "cell_type": "code",
      "source": [
        "from typing import List\n",
        "import numpy\n",
        "import timeit\n",
        "\n",
        "for i in range(1,11,1):\n",
        "      strArq = \"arq\"+str(i)+\".txt\"\n",
        "      #print(strArq)\n",
        "      array = np.loadtxt(strArq)\n",
        "      #print(array)\n",
        "      #print(len(array))\n",
        "      print(\"Tempo = \", i, \" \",timeit.timeit(lambda: np.sort(array), number=1))\n",
        "      array_sort = np.sort(array)\n",
        "      np.savetxt(\"arq\"+str(i)+\"_sort.txt\", array_sort)\n"
      ],
      "metadata": {
        "colab": {
          "base_uri": "https://localhost:8080/"
        },
        "id": "OOfzLhAKU6UE",
        "outputId": "9bab912c-c943-42ef-9fec-19d64dcc640d"
      },
      "execution_count": null,
      "outputs": [
        {
          "output_type": "stream",
          "name": "stdout",
          "text": [
            "Tempo =  1   0.009093139999947653\n",
            "Tempo =  2   0.018108828999970683\n",
            "Tempo =  3   0.03324242899998353\n",
            "Tempo =  4   0.039317218999997294\n",
            "Tempo =  5   0.04815309800000023\n",
            "Tempo =  6   0.05791329700002734\n",
            "Tempo =  7   0.07185595700002523\n",
            "Tempo =  8   0.08153430700002673\n",
            "Tempo =  9   0.11144512499998882\n",
            "Tempo =  10   0.10001604600000746\n"
          ]
        }
      ]
    },
    {
      "cell_type": "code",
      "source": [
        "def genChavealet(max, size):\n",
        "    vetor = [0]*size\n",
        "    return np.array(gen(vetor,max,size))"
      ],
      "metadata": {
        "id": "xniHHh_EU9In"
      },
      "execution_count": null,
      "outputs": []
    },
    {
      "cell_type": "markdown",
      "source": [
        "Lista Ligada"
      ],
      "metadata": {
        "id": "EwIoasuiVflN"
      }
    },
    {
      "cell_type": "code",
      "source": [
        "import timeit\n",
        "\n",
        "num_comp = 0\n",
        "\n",
        "from os import execl\n",
        "class No:\n",
        "  def __init__(self, dado=0, proximo_nodo=None):\n",
        "    self.dado = dado\n",
        "    self.proximo = proximo_nodo\n",
        "\n",
        "  def __repr__(self):\n",
        "    return '%s -> %s' % (self.dado, self.proximo)\n",
        "\n",
        "  def set_proximo(self, proximo):\n",
        "    self.proximo_nodo = proximo\n",
        "\n",
        "class Lista:\n",
        "  def __init__(self):\n",
        "    self.cabeca = None\n",
        "\n",
        "  def __repr__(self):\n",
        "    return \"[\" + str(self.cabeca) + \"]\"\n",
        "\n",
        "\n",
        "\n",
        "  def vazia(self):\n",
        "        return self.cabeca is None\n",
        "  def insere_depois(self, nodo_anterior, novo_dado):\n",
        "    assert nodo_anterior, \"Nodo anterior precisa existir na lista.\"\n",
        "    novo_nodo = No(novo_dado)\n",
        "    novo_nodo.proximo = nodo_anterior.proximo\n",
        "    nodo_anterior.proximo = novo_nodo\n",
        "\n",
        "  def insere_no_fim(self, dado):\n",
        "        novo_no = No(dado)\n",
        "\n",
        "        if self.cabeca is None:\n",
        "            self.cabeca = novo_no\n",
        "        else:\n",
        "            atual = self.cabeca\n",
        "            while atual.proximo is not None:\n",
        "                atual = atual.proximo\n",
        "            atual.proximo = novo_no\n",
        "\n",
        "  def insere_no_inicio(self, novo_dado):\n",
        "    novo_nodo = No(novo_dado)\n",
        "    novo_nodo.proximo = self.cabeca\n",
        "    self.cabeca = novo_nodo\n",
        "\n",
        "  def preencher(array):\n",
        "    #for i in array:\n",
        "    #  print(i,end=\" \")\n",
        "    print(array)\n",
        "\n",
        "  def busca(self, chave):\n",
        "    atual = self.cabeca\n",
        "    pos = 0\n",
        "    while atual is not None:\n",
        "      global num_comp\n",
        "      num_comp = num_comp + 1\n",
        "      if atual.dado == chave:\n",
        "          return pos\n",
        "      atual = atual.proximo\n",
        "      pos = pos+1\n",
        "    return -1\n",
        "\n",
        "  def tamanho(self):\n",
        "    size = 0\n",
        "    atual = self.cabeca\n",
        "    while atual is not None:\n",
        "        size += 1\n",
        "        atual = atual.proximo\n",
        "    return size\n",
        "  def primeiro(self):\n",
        "    return self.cabeca.dado\n",
        "  def remove(self, valor):\n",
        "    assert self.cabeca, \"Impossível remover valor de lista vazia.\"\n",
        "\n",
        "    # Nodo a ser removido é a cabeça da lista.\n",
        "    if self.cabeca.dado == valor:\n",
        "        self.cabeca = self.cabeca.proximo\n",
        "    else:\n",
        "        # Encontra a posição do elemento a ser removido.\n",
        "        anterior = None\n",
        "        corrente = self.cabeca\n",
        "        while corrente and corrente.dado != valor:\n",
        "            anterior = corrente\n",
        "            corrente = corrente.proximo\n",
        "        # O nodo corrente é o nodo a ser removido.\n",
        "        if corrente:\n",
        "            anterior.proximo = corrente.proximo\n",
        "        else:\n",
        "            # O nodo corrente é a cauda da lista.\n",
        "            anterior.proximo = None"
      ],
      "metadata": {
        "id": "Hvd0J3YFVhl2"
      },
      "execution_count": null,
      "outputs": []
    },
    {
      "cell_type": "code",
      "source": [
        "#teste da lista ligada\n",
        "import math\n",
        "#carregar vetores\n",
        "#array1 = np.loadtxt(\"arq1.txt\")\n",
        "#print(array1)\n",
        "#print(len(array1))\n",
        "tempo_piorcaso = []\n",
        "num_comp_piorcaso = []\n",
        "\n",
        "for i in range(1,11,1):\n",
        "  #preencher a lista\n",
        "  lista = Lista()\n",
        "  strArq = \"arq\"+str(i)+\".txt\"\n",
        "  array = np.loadtxt(strArq)\n",
        "  chave = array[0]\n",
        "  #print(array)\n",
        "  \n",
        "  #preencher lista\n",
        "  for j in array:\n",
        "    #lista.insere_no_fim(j)\n",
        "    lista.insere_no_inicio(j)\n",
        "  #chave = lista.primeiro()\n",
        "  \n",
        "  #pos = lista.busca(chave)\n",
        "  #print(pos)\n",
        "  tempo_piorcaso.append(round(timeit.timeit(lambda: lista.busca(chave), number=1),4))\n",
        "  taux = 0\n",
        "  #print(\"Número de Comparações =\",num_comp)\n",
        "  num_comp_piorcaso.append(num_comp)\n",
        "  num_comp = 0\n",
        "  \n",
        "print(\"tempo pior caso =\\n\", tempo_piorcaso)\n",
        "print(\"Número de Comparações no pior caso =\\n\",num_comp_piorcaso)"
      ],
      "metadata": {
        "colab": {
          "base_uri": "https://localhost:8080/"
        },
        "id": "YwvxgLaeX-LI",
        "outputId": "6e92fd12-8323-4c27-e960-9b1324535ee1"
      },
      "execution_count": null,
      "outputs": [
        {
          "output_type": "stream",
          "name": "stdout",
          "text": [
            "tempo pior caso =\n",
            " [0.0166, 0.0496, 0.0672, 0.0808, 0.0975, 0.1132, 0.1443, 0.1521, 0.1793, 0.1819]\n",
            "Número de Comparações no pior caso =\n",
            " [100000, 200000, 300000, 400000, 500000, 600000, 700000, 800000, 900000, 1000000]\n"
          ]
        }
      ]
    },
    {
      "cell_type": "markdown",
      "source": [
        "100 casos"
      ],
      "metadata": {
        "id": "tXTLR8KCyVdG"
      }
    },
    {
      "cell_type": "code",
      "source": [
        "import math\n",
        "import statistics\n",
        "tempo_casoaleat = []\n",
        "num_comp_casos_aleat = []\n",
        "desvios_tempo = []\n",
        "desvios_comp = []\n",
        "for i in range(1,11,1):\n",
        "      lista = Lista()\n",
        "      strArq = \"arq\"+str(i)+\".txt\"\n",
        "      array = np.loadtxt(strArq)\n",
        "      chave_aleat = genChavealet(len(array),100)\n",
        "      #print(array)\n",
        "\n",
        "      #preencher lista\n",
        "      for j in array:\n",
        "        #lista.insere_no_fim(j)\n",
        "        lista.insere_no_inicio(j)\n",
        "      #print(\"Array = \",array)\n",
        "      #print(\"tamanho\",len(array))\n",
        "      t = 0.0\n",
        "      \n",
        "      #print(\"chaves aleeatórias = \",chave_aleat)\n",
        "      tempo_total = 0.0\n",
        "      Taux = []\n",
        "      nc = []\n",
        "      \n",
        "      total_num_comp = 0.0\n",
        "      for j in range(100):\n",
        "          t = timeit.timeit(lambda: lista.busca(chave_aleat[j]), number=1)\n",
        "          tempo_total +=t\n",
        "          Taux.append(t)\n",
        "          t = 0\n",
        "          total_num_comp += num_comp\n",
        "          nc.append(num_comp)\n",
        "          num_comp = 0\n",
        "\n",
        "      desvios_tempo.append(round(statistics.pstdev(Taux),5))\n",
        "      desvios_comp.append(int(statistics.pstdev(nc)))\n",
        "      tempo_casoaleat.append(round((tempo_total/100),5))\n",
        "      num_comp_casos_aleat.append(int(total_num_comp/100))\n",
        "      total_num_comp = 0\n",
        "      \n",
        "      #print(\"tempo=\",t)\n",
        "\n",
        "print(\"tempos medios em 100 casos aleatórios=\\n \",tempo_casoaleat)\n",
        "print(\"número médio de comparações em casos aleatórios=\\n \",num_comp_casos_aleat)\n",
        "print(\"Desvio padrão Tempo\\n\",desvios_tempo)\n",
        "print(\"Desvio padrão Comparações\\n\",desvios_comp)"
      ],
      "metadata": {
        "colab": {
          "base_uri": "https://localhost:8080/"
        },
        "id": "0slmB51zyVBk",
        "outputId": "d8f9e465-4117-41e2-cf40-ebdae127022a"
      },
      "execution_count": null,
      "outputs": [
        {
          "output_type": "stream",
          "name": "stdout",
          "text": [
            "tempos medios em 100 casos aleatórios=\n",
            "  [0.02811, 0.04893, 0.07231, 0.08698, 0.09718, 0.12877, 0.13978, 0.15663, 0.18124, 0.19838]\n",
            "número médio de comparações em casos aleatórios=\n",
            "  [79428, 148210, 230789, 315797, 349321, 478151, 531325, 609909, 680366, 745944]\n",
            "Desvio padrão Tempo\n",
            " [0.01185, 0.02703, 0.03331, 0.03754, 0.05444, 0.05597, 0.06798, 0.07679, 0.0892, 0.10389]\n",
            "Desvio padrão Comparações\n",
            " [30289, 69219, 90182, 116405, 172959, 180967, 234490, 266256, 285064, 347464]\n"
          ]
        }
      ]
    },
    {
      "cell_type": "markdown",
      "source": [
        "Árvore Binária de Busca"
      ],
      "metadata": {
        "id": "_ARsKCC2ViN-"
      }
    },
    {
      "cell_type": "code",
      "source": [
        "class No:\n",
        "\tdef __init__(self, key, dir, esq):\n",
        "\t\tself.dado = key\n",
        "\t\tself.dir = dir\n",
        "\t\tself.esq = esq\n",
        "\n",
        "class Arvore:\n",
        "  def __init__(self):\n",
        "    self.root = No(None, None, None)\n",
        "    self.root = None\n",
        "  def inserir(self, v):\n",
        "    novo = No(v, None, None)\n",
        "\t\t\n",
        "    if self.root == None:\n",
        "      \n",
        "      self.root = novo\t\n",
        "    else:\n",
        "      atual = self.root  \n",
        "      while True:\n",
        "        anterior = atual\n",
        "        if v <= atual.dado:  # ir para esquerda\n",
        "          atual = atual.esq\n",
        "          if atual == None:\n",
        "            anterior.esq = novo\n",
        "            return\n",
        "\t\t\t\n",
        "        else:  # ir para direita\n",
        "          atual = atual.dir\n",
        "          if atual == None:\n",
        "            anterior.dir = novo\n",
        "            return\n",
        "\t\t\n",
        "  def bfs(self, node,n):\n",
        "    if not node:\n",
        "      return\n",
        "    queue = []\n",
        "    queue.append(node)\n",
        "    contador = 0\n",
        "    while queue:\n",
        "      node = queue.pop(0)\n",
        "      contador = contador + 1\n",
        "      if(contador != n):\n",
        "        print(node.dado,end=\" \")\n",
        "      else:\n",
        "        print(node.dado,end=\"\")\n",
        "        \n",
        "      if node.esq:\n",
        "        queue.append(node.esq)\n",
        "      if node.dir:\n",
        "        queue.append(node.dir)\n",
        "    \n",
        "  def inOrder(self, atual):\n",
        "    if atual != None:\n",
        "      self.inOrder(atual.esq)\n",
        "      print(\"\",atual.dado,end=\"\")\n",
        "      self.inOrder(atual.dir)\n",
        "\n",
        "  def preOrder(self, atual):\n",
        "    if atual != None:\n",
        "      print(\"\",atual.dado,end=\"\")\n",
        "      self.preOrder(atual.esq)\n",
        "      self.preOrder(atual.dir)\n",
        "\n",
        "  def posOrder(self, atual):\n",
        "    if atual != None:\n",
        "      self.posOrder(atual.esq)\n",
        "      self.posOrder(atual.dir)\n",
        "      print(\"\",atual.dado,end=\"\")\n",
        "\n",
        "  def altura_max(self, atual):\n",
        "    if atual == None:\n",
        "          return 0\n",
        "    return self.altura_arv(self.root)\n",
        "\n",
        "  def maior(self,esq,dir):\n",
        "    if(esq>dir):\n",
        "      return esq\n",
        "    else:\n",
        "      return dir\n",
        "\n",
        "  def altura_arv(self,node):\n",
        "    if node is None:\n",
        "        return 0\n",
        "    altura_esq = self.altura_arv(node.esq)\n",
        "    altura_dir = self.altura_arv(node.dir)\n",
        "    return self.maior(altura_esq, altura_dir) + 1\n",
        "\n",
        "  def folhas(self, atual):\n",
        "      if atual == None:\n",
        "          return 0\n",
        "      if atual.esq == None and atual.dir == None:\n",
        "          return 1\n",
        "      return self.folhas(atual.esq) + self.folhas(atual.dir)\n",
        "\n",
        "  \n",
        "  def contarNos(self, atual):\n",
        "    if atual == None:\n",
        "          return 0\n",
        "    else:\n",
        "          return  1 + self.contarNos(atual.esq) + self.contarNos(atual.dir)\n",
        "\n",
        "  def minn(self):\n",
        "      atual = self.root\n",
        "      anterior = None\n",
        "      while atual != None:\n",
        "          anterior = atual\n",
        "          atual = atual.esq\n",
        "      return anterior\n",
        "  def busca(node, chave):\n",
        "    global num_comp\n",
        "    num_comp = num_comp + 1\n",
        "    if node is None or node.dado == chave:\n",
        "        return node\n",
        "    if chave < node.dado:\n",
        "        return busca(node.esq, chave)\n",
        "    else:\n",
        "        return busca(node.dir, chave)\n",
        "\n",
        "  def maxx(self):\n",
        "      atual = self.root\n",
        "      anterior = None\n",
        "      while atual != None:\n",
        "          anterior = atual\n",
        "          atual = atual.dir\n",
        "      return anterior"
      ],
      "metadata": {
        "id": "m4yTqSn3Vklu"
      },
      "execution_count": null,
      "outputs": []
    },
    {
      "cell_type": "markdown",
      "source": [
        "Teste da árvore binária no pior caso"
      ],
      "metadata": {
        "id": "ahG30xlfvy5z"
      }
    },
    {
      "cell_type": "code",
      "source": [
        "#teste da árvore binária\n",
        "\n",
        "for i in range(1,11,1):\n",
        "      arv = Arvore()\n",
        "      strArq = \"arq\"+str(i)+\".txt\"\n",
        "      array = np.loadtxt(strArq)\n",
        "      #print(len(array))\n",
        "      #preencher arvore\n",
        "      for j in array:\n",
        "        arv.inserir(j)\n",
        "      #print(arv.altura(arv.root))\n",
        "      #arv.preOrder(arv.root)\n",
        "      max = arv.altura_max(arv.root)\n",
        "      nos = arv.contarNos(arv.root)\n",
        "      #print(\"altura maxima = \",max, \"número de nós = \",nos)"
      ],
      "metadata": {
        "colab": {
          "base_uri": "https://localhost:8080/",
          "height": 235
        },
        "id": "dwgTUpNHYB33",
        "outputId": "36c9fb0c-cbb1-4986-808c-57ffeeb80e2f"
      },
      "execution_count": null,
      "outputs": [
        {
          "output_type": "error",
          "ename": "NameError",
          "evalue": "ignored",
          "traceback": [
            "\u001b[0;31m---------------------------------------------------------------------------\u001b[0m",
            "\u001b[0;31mNameError\u001b[0m                                 Traceback (most recent call last)",
            "\u001b[0;32m<ipython-input-1-03c5eb6ad8de>\u001b[0m in \u001b[0;36m<cell line: 2>\u001b[0;34m()\u001b[0m\n\u001b[1;32m      1\u001b[0m \u001b[0;31m#teste da árvore binária\u001b[0m\u001b[0;34m\u001b[0m\u001b[0;34m\u001b[0m\u001b[0m\n\u001b[0;32m----> 2\u001b[0;31m \u001b[0marv\u001b[0m \u001b[0;34m=\u001b[0m \u001b[0mArvore\u001b[0m\u001b[0;34m(\u001b[0m\u001b[0;34m)\u001b[0m\u001b[0;34m\u001b[0m\u001b[0;34m\u001b[0m\u001b[0m\n\u001b[0m\u001b[1;32m      3\u001b[0m \u001b[0mtarget_value\u001b[0m \u001b[0;34m=\u001b[0m \u001b[0;36m7\u001b[0m\u001b[0;34m\u001b[0m\u001b[0;34m\u001b[0m\u001b[0m\n\u001b[1;32m      4\u001b[0m \u001b[0mtarget_node\u001b[0m \u001b[0;34m=\u001b[0m \u001b[0marv\u001b[0m\u001b[0;34m.\u001b[0m\u001b[0mbusca\u001b[0m\u001b[0;34m(\u001b[0m\u001b[0mroot\u001b[0m\u001b[0;34m,\u001b[0m \u001b[0mtarget_value\u001b[0m\u001b[0;34m)\u001b[0m\u001b[0;34m\u001b[0m\u001b[0;34m\u001b[0m\u001b[0m\n\u001b[1;32m      5\u001b[0m \u001b[0;34m\u001b[0m\u001b[0m\n",
            "\u001b[0;31mNameError\u001b[0m: name 'Arvore' is not defined"
          ]
        }
      ]
    }
  ]
}